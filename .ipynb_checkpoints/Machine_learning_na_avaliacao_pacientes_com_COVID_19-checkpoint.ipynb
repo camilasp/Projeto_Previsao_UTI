{
 "cells": [
  {
   "cell_type": "markdown",
   "metadata": {
    "id": "GcVdoYA9dIEv"
   },
   "source": [
    "# **Machine Learning na avaliação de pacientes com COVID-19: implementação de um modelo para prever a necessidade de internação em UTI.**"
   ]
  },
  {
   "cell_type": "markdown",
   "metadata": {
    "id": "uiEbld-wvRR5"
   },
   "source": [
    "Esse projeto foi realizado durante o bootcamp de data science aplicado da Alura, utilizando como base um desafio proposto pelo Hospital Sírio Libanês no [Kaggle](https://www.kaggle.com/S%C3%ADrio-Libanes/covid19)\n",
    "\n"
   ]
  },
  {
   "cell_type": "markdown",
   "metadata": {
    "id": "cf3jWxebc0Ql"
   },
   "source": [
    "## **1. Introdução**\n"
   ]
  },
  {
   "cell_type": "markdown",
   "metadata": {
    "id": "1YZp32Seft0c"
   },
   "source": [
    "**Um dos problemas relacionados** à pandemia de **COVID-19** é o **número limitado de leitos** de unidades de tratamento intensivo disponíveis, tanto no sistema de saúde público quanto no privado. \n",
    "Enquanto cerca de 80% das pessoas contaminadas com COVID-19 apresentarão sintomas respiratórios de grau leve a moderado e não precisarão de cuidados especiais para que se recuperem, **cerca de 20% dos contaminados precisarão de assistência hospitalar** e **nos casos mais graves**, de **tratamento intensivo**. Alguns fatores parecem aumentar as chances do desenvolvimento de um quadro mais grave: pessoas mais velhas, aquelas com comorbidades tais como problemas vasculares, cardiacos, diabetes, doenças respiratórias crônicas e cancer, por exemplo.[1][2]\n",
    "Apesar da maioria dos casos não requerer internação em UTI como explicado acima, a **superlotação se explica pela taxa de disseminação da doença**, sendo que ao longo da pandemia, milhares de casos novos têm sido confirmados todos os dias no Brasil.\n",
    "\n",
    "Assim, a necessidade de leitos de UTI para o tratamento de pacientes com COVID-19 está diretamente correlacionada ao número de infecções. **É esperado que o número de pacientes com COVID-19 que precisarão de um suporte intensivo será tão maior quanto for a quantidade de casos registrados em dado momento**. Não por acaso, são diversos os estudos e o desenvolvimento de modelos de previsão da necessidade de leitos com base no crescimento do número de casos em dado momento da pandemia. [3]\n",
    "\n",
    "\n"
   ]
  },
  {
   "cell_type": "markdown",
   "metadata": {},
   "source": [
    "Os gráficos abaixo mostram como o **número de pacientes internados em UTI COVID-19** e o **número de casos novos de COVID-19** tiveram uma curva de crescimento parecida no ano de 2021.\n",
    "\n",
    "Os dados para plotagem dos gráficos abaixo e o código estão nesse [notebook](https://github.com/camilasp/Projeto_Sirio_Libanes/blob/master/dados_seade.ipynb) auxiliar."
   ]
  },
  {
   "cell_type": "markdown",
   "metadata": {},
   "source": [
    "![alt text](media_casos.png \"Média de Casos Novos de COVID-19\")"
   ]
  },
  {
   "cell_type": "markdown",
   "metadata": {},
   "source": [
    "![alt text](media_movel_util.png \"Média de pacientes UTI COVID\")\n",
    "\n"
   ]
  },
  {
   "cell_type": "markdown",
   "metadata": {
    "id": "YzOzbSTr1Z4I"
   },
   "source": [
    "Entretanto, estudos demonstram que **a vacinação tende a causar uma diminuição**  tanto no risco de infecção quanto na gravidade da doença o que, consequentemente, leva a uma menor necessidade de internação [4][5][8]. Dessa forma, **a análise da correlação de número de casos totais e número de internações** ocorridos antes do início da vacinação da população, **pode não ser um bom indicador nesse momento**. Novas análises entre o número de casos graves pós vacinação em relação aos casos totais deverão ser feitas.\n",
    "Além disso, **o surgimento de novas variantes** também é um fator que **pode modificar os números**. Já é sabido que algumas variantes conhecidas têm um maior poder de infecção por exemplo, e por vezes as vacinas têm se mostrado menos eficientes contra essas variantes.[6][7]\n",
    "\n",
    "Nesse projeto, o objetivo principal é auxiliar na **detecção precoce da necessidade de internação em UTI** de pacientes que se apresentem no hospital, no intuito de separar aqueles que precisarão UTI dos demais, objetivando uma utilização mais eficiente dos recursos hospitalares e garantindo uma maior taxa de confiança na separação desses dois grupos. Para fazer essa predição, **um modelo de classificação baseado nas características e sinais físicos de pacientes** que necessitaram de UTI e de outros que não precisaram ser internados será implementado."
   ]
  },
  {
   "cell_type": "markdown",
   "metadata": {
    "id": "4RRb_PB-fumq"
   },
   "source": [
    "### **1.1 Objetivo**"
   ]
  },
  {
   "cell_type": "markdown",
   "metadata": {
    "id": "q5aVBaTAfuy6"
   },
   "source": [
    "Implementar um modelo de Machine Learning que consiga **prever quais pacientes** que se apresentarem no  Hospital Sírio Libânes com COVID-19 **precisarão de UTI** e **quais não precisarão**, utilizando apenas os resultados dos exames realizados **dentro de duas horas da chegada** do paciente no hospital.\n",
    "\n",
    "Os dados utilizados foram coletados de pacientes com COVID-19 que estiveram no Sírio Libanês no ano de 2020 e que foram examinados/tratados no Hospital. Esses dados, anonimizados, foram disponibilizados no Kaggle, bem como a proposta de criação do modelo de classificação da necessidade de UTI pelos pacientes. "
   ]
  },
  {
   "cell_type": "markdown",
   "metadata": {
    "id": "bRC_4TPslS_S"
   },
   "source": [
    "### **1.2 Sobre os dados**"
   ]
  },
  {
   "cell_type": "markdown",
   "metadata": {
    "id": "HTG2NnO5lbMn"
   },
   "source": [
    "O dataset que será utilizado é composto pelas seguintes variáveis:\n",
    "\n",
    "\n",
    "* Informações demográficas: 3 variáveis; \n",
    "\n",
    "* Doenças pré-existentes: 9 variáveis;\n",
    "\n",
    "* Exames de sangue: 36 variáveis, que quando pertinente, foram expandidas em média, mediana, max, min, diff e diff relativa;\n",
    "\n",
    "* Sinais vitais: 6 variáveis;\n",
    "\n",
    "* ICU: indica se o paciente foi ou não para UTI\n",
    "\n",
    "\n",
    "* WINDOW: janela (em horas) em que os eventos ocorreram a partir da admissão no Hospital(0-2, 2-4, 4-6, 6-12 e ABOVE 12). \n",
    "\n"
   ]
  },
  {
   "cell_type": "markdown",
   "metadata": {
    "id": "O6eX1DxYmDPS"
   },
   "source": [
    "Os dados foram normalizados pela equipe do Sírio Libanês para que seus valores ficassem no intervalo entre -1 e 1, com exceção das variáveis categóricas ( informações demográficas, doenças pré-existentes, ICU e WINDOW)."
   ]
  },
  {
   "cell_type": "markdown",
   "metadata": {
    "id": "anhuipOAk-kA"
   },
   "source": [
    "O Sírio Libanês alertou para que os dados das janelas de tempo onde a variável alvo (ICU) estivesse presente não fossem utilizados, pois a ida para a UTI pode ter sido anterior aos resultados dos exames.\n",
    "\n",
    "\n",
    "\n"
   ]
  },
  {
   "cell_type": "markdown",
   "metadata": {
    "id": "vFiWuD--f8gQ"
   },
   "source": [
    "## **2. Preparação dos dados**"
   ]
  },
  {
   "cell_type": "markdown",
   "metadata": {
    "id": "z_wVt-apNwgT"
   },
   "source": [
    "A preparação dos dados foi feita e explicada nesse [notebook](https://github.com/camilasp/Projeto_Sirio_Libanes/blob/master/preparacao_dados.ipynb)."
   ]
  },
  {
   "cell_type": "markdown",
   "metadata": {
    "id": "lBCmltvUOFfd"
   },
   "source": [
    "## **3. Análise e seleção de features e modelos**"
   ]
  },
  {
   "cell_type": "markdown",
   "metadata": {
    "id": "qmQDC8DglOYt"
   },
   "source": [
    "Importando as bibliotecas:"
   ]
  },
  {
   "cell_type": "code",
   "execution_count": 19,
   "metadata": {
    "id": "9mZhmp35GlN4"
   },
   "outputs": [],
   "source": [
    "import pandas as pd\n",
    "import numpy as np\n",
    "import seaborn as sns\n",
    "import matplotlib.pyplot as plt\n",
    "from matplotlib import cm\n",
    "from sklearn.ensemble import RandomForestClassifier\n",
    "from sklearn import svm\n",
    "from sklearn.svm import SVC\n",
    "from sklearn.metrics import accuracy_score, recall_score, roc_auc_score, precision_score\n",
    "from sklearn.metrics import classification_report\n",
    "from sklearn.metrics import plot_confusion_matrix\n",
    "from sklearn.metrics import roc_curve\n",
    "from sklearn.dummy import DummyClassifier\n",
    "from sklearn.model_selection import train_test_split\n",
    "from sklearn.model_selection import cross_validate\n",
    "from sklearn.model_selection import RepeatedStratifiedKFold\n",
    "from funcoes import plota_roc_curve, roda_modelos\n",
    "from funcoes import elimina_features_alta_correlacao, exclui_colunas_dados_duplicados\n",
    "from funcoes import exclui_colunas_unico_valor, exclui_colunas_quase_constantes, plota_roc_curve, roda_modelos\n"
   ]
  },
  {
   "cell_type": "markdown",
   "metadata": {
    "id": "lmDt0-lbwGPb"
   },
   "source": [
    "Fazendo a leitura do arquivo com os dados já previamente limpos. "
   ]
  },
  {
   "cell_type": "code",
   "execution_count": 3,
   "metadata": {
    "id": "5e9QyMyxHB77"
   },
   "outputs": [],
   "source": [
    "dados = pd.read_csv('/Users/camil/Jupyter Projects/dados/dados_limpos.csv')"
   ]
  },
  {
   "cell_type": "code",
   "execution_count": 4,
   "metadata": {
    "colab": {
     "base_uri": "https://localhost:8080/",
     "height": 467
    },
    "id": "LKkFsJaUvV3W",
    "outputId": "4d2d24a1-8c09-4608-c4de-0512dab5144e"
   },
   "outputs": [
    {
     "data": {
      "text/html": [
       "<div>\n",
       "<style scoped>\n",
       "    .dataframe tbody tr th:only-of-type {\n",
       "        vertical-align: middle;\n",
       "    }\n",
       "\n",
       "    .dataframe tbody tr th {\n",
       "        vertical-align: top;\n",
       "    }\n",
       "\n",
       "    .dataframe thead th {\n",
       "        text-align: right;\n",
       "    }\n",
       "</style>\n",
       "<table border=\"1\" class=\"dataframe\">\n",
       "  <thead>\n",
       "    <tr style=\"text-align: right;\">\n",
       "      <th></th>\n",
       "      <th>AGE_ABOVE65</th>\n",
       "      <th>AGE_PERCENTIL</th>\n",
       "      <th>GENDER</th>\n",
       "      <th>DISEASE GROUPING 1</th>\n",
       "      <th>DISEASE GROUPING 2</th>\n",
       "      <th>DISEASE GROUPING 3</th>\n",
       "      <th>DISEASE GROUPING 4</th>\n",
       "      <th>DISEASE GROUPING 5</th>\n",
       "      <th>DISEASE GROUPING 6</th>\n",
       "      <th>HTN</th>\n",
       "      <th>...</th>\n",
       "      <th>RESPIRATORY_RATE_DIFF</th>\n",
       "      <th>TEMPERATURE_DIFF</th>\n",
       "      <th>OXYGEN_SATURATION_DIFF</th>\n",
       "      <th>BLOODPRESSURE_DIASTOLIC_DIFF_REL</th>\n",
       "      <th>BLOODPRESSURE_SISTOLIC_DIFF_REL</th>\n",
       "      <th>HEART_RATE_DIFF_REL</th>\n",
       "      <th>RESPIRATORY_RATE_DIFF_REL</th>\n",
       "      <th>TEMPERATURE_DIFF_REL</th>\n",
       "      <th>OXYGEN_SATURATION_DIFF_REL</th>\n",
       "      <th>ICU</th>\n",
       "    </tr>\n",
       "  </thead>\n",
       "  <tbody>\n",
       "    <tr>\n",
       "      <th>0</th>\n",
       "      <td>1</td>\n",
       "      <td>60th</td>\n",
       "      <td>0</td>\n",
       "      <td>0.0</td>\n",
       "      <td>0.0</td>\n",
       "      <td>0.0</td>\n",
       "      <td>0.0</td>\n",
       "      <td>1.0</td>\n",
       "      <td>1.0</td>\n",
       "      <td>0.0</td>\n",
       "      <td>...</td>\n",
       "      <td>-1.000000</td>\n",
       "      <td>-1.000000</td>\n",
       "      <td>-1.000000</td>\n",
       "      <td>-1.000000</td>\n",
       "      <td>-1.000000</td>\n",
       "      <td>-1.000000</td>\n",
       "      <td>-1.000000</td>\n",
       "      <td>-1.000000</td>\n",
       "      <td>-1.000000</td>\n",
       "      <td>1</td>\n",
       "    </tr>\n",
       "    <tr>\n",
       "      <th>1</th>\n",
       "      <td>0</td>\n",
       "      <td>10th</td>\n",
       "      <td>0</td>\n",
       "      <td>0.0</td>\n",
       "      <td>0.0</td>\n",
       "      <td>0.0</td>\n",
       "      <td>0.0</td>\n",
       "      <td>0.0</td>\n",
       "      <td>0.0</td>\n",
       "      <td>0.0</td>\n",
       "      <td>...</td>\n",
       "      <td>-0.764706</td>\n",
       "      <td>-1.000000</td>\n",
       "      <td>-0.959596</td>\n",
       "      <td>-0.515528</td>\n",
       "      <td>-0.351328</td>\n",
       "      <td>-0.747001</td>\n",
       "      <td>-0.756272</td>\n",
       "      <td>-1.000000</td>\n",
       "      <td>-0.961262</td>\n",
       "      <td>1</td>\n",
       "    </tr>\n",
       "    <tr>\n",
       "      <th>2</th>\n",
       "      <td>0</td>\n",
       "      <td>40th</td>\n",
       "      <td>1</td>\n",
       "      <td>0.0</td>\n",
       "      <td>0.0</td>\n",
       "      <td>0.0</td>\n",
       "      <td>0.0</td>\n",
       "      <td>0.0</td>\n",
       "      <td>0.0</td>\n",
       "      <td>0.0</td>\n",
       "      <td>...</td>\n",
       "      <td>-1.000000</td>\n",
       "      <td>-1.000000</td>\n",
       "      <td>-1.000000</td>\n",
       "      <td>-1.000000</td>\n",
       "      <td>-1.000000</td>\n",
       "      <td>-1.000000</td>\n",
       "      <td>-1.000000</td>\n",
       "      <td>-1.000000</td>\n",
       "      <td>-1.000000</td>\n",
       "      <td>0</td>\n",
       "    </tr>\n",
       "    <tr>\n",
       "      <th>3</th>\n",
       "      <td>0</td>\n",
       "      <td>10th</td>\n",
       "      <td>0</td>\n",
       "      <td>0.0</td>\n",
       "      <td>0.0</td>\n",
       "      <td>0.0</td>\n",
       "      <td>0.0</td>\n",
       "      <td>0.0</td>\n",
       "      <td>0.0</td>\n",
       "      <td>0.0</td>\n",
       "      <td>...</td>\n",
       "      <td>-0.882353</td>\n",
       "      <td>-0.952381</td>\n",
       "      <td>-0.979798</td>\n",
       "      <td>-1.000000</td>\n",
       "      <td>-0.883669</td>\n",
       "      <td>-0.956805</td>\n",
       "      <td>-0.870968</td>\n",
       "      <td>-0.953536</td>\n",
       "      <td>-0.980333</td>\n",
       "      <td>0</td>\n",
       "    </tr>\n",
       "    <tr>\n",
       "      <th>4</th>\n",
       "      <td>0</td>\n",
       "      <td>10th</td>\n",
       "      <td>0</td>\n",
       "      <td>0.0</td>\n",
       "      <td>0.0</td>\n",
       "      <td>0.0</td>\n",
       "      <td>0.0</td>\n",
       "      <td>0.0</td>\n",
       "      <td>0.0</td>\n",
       "      <td>0.0</td>\n",
       "      <td>...</td>\n",
       "      <td>-1.000000</td>\n",
       "      <td>-0.976190</td>\n",
       "      <td>-0.979798</td>\n",
       "      <td>-0.860870</td>\n",
       "      <td>-0.714460</td>\n",
       "      <td>-0.986481</td>\n",
       "      <td>-1.000000</td>\n",
       "      <td>-0.975891</td>\n",
       "      <td>-0.980129</td>\n",
       "      <td>0</td>\n",
       "    </tr>\n",
       "    <tr>\n",
       "      <th>...</th>\n",
       "      <td>...</td>\n",
       "      <td>...</td>\n",
       "      <td>...</td>\n",
       "      <td>...</td>\n",
       "      <td>...</td>\n",
       "      <td>...</td>\n",
       "      <td>...</td>\n",
       "      <td>...</td>\n",
       "      <td>...</td>\n",
       "      <td>...</td>\n",
       "      <td>...</td>\n",
       "      <td>...</td>\n",
       "      <td>...</td>\n",
       "      <td>...</td>\n",
       "      <td>...</td>\n",
       "      <td>...</td>\n",
       "      <td>...</td>\n",
       "      <td>...</td>\n",
       "      <td>...</td>\n",
       "      <td>...</td>\n",
       "      <td>...</td>\n",
       "    </tr>\n",
       "    <tr>\n",
       "      <th>289</th>\n",
       "      <td>0</td>\n",
       "      <td>40th</td>\n",
       "      <td>1</td>\n",
       "      <td>0.0</td>\n",
       "      <td>0.0</td>\n",
       "      <td>0.0</td>\n",
       "      <td>0.0</td>\n",
       "      <td>0.0</td>\n",
       "      <td>0.0</td>\n",
       "      <td>0.0</td>\n",
       "      <td>...</td>\n",
       "      <td>-1.000000</td>\n",
       "      <td>-1.000000</td>\n",
       "      <td>-1.000000</td>\n",
       "      <td>-1.000000</td>\n",
       "      <td>-1.000000</td>\n",
       "      <td>-1.000000</td>\n",
       "      <td>-1.000000</td>\n",
       "      <td>-1.000000</td>\n",
       "      <td>-1.000000</td>\n",
       "      <td>1</td>\n",
       "    </tr>\n",
       "    <tr>\n",
       "      <th>290</th>\n",
       "      <td>1</td>\n",
       "      <td>Above 90th</td>\n",
       "      <td>0</td>\n",
       "      <td>0.0</td>\n",
       "      <td>0.0</td>\n",
       "      <td>0.0</td>\n",
       "      <td>0.0</td>\n",
       "      <td>0.0</td>\n",
       "      <td>0.0</td>\n",
       "      <td>0.0</td>\n",
       "      <td>...</td>\n",
       "      <td>-1.000000</td>\n",
       "      <td>-0.619048</td>\n",
       "      <td>-1.000000</td>\n",
       "      <td>-1.000000</td>\n",
       "      <td>-1.000000</td>\n",
       "      <td>-1.000000</td>\n",
       "      <td>-1.000000</td>\n",
       "      <td>-0.612627</td>\n",
       "      <td>-1.000000</td>\n",
       "      <td>0</td>\n",
       "    </tr>\n",
       "    <tr>\n",
       "      <th>291</th>\n",
       "      <td>0</td>\n",
       "      <td>50th</td>\n",
       "      <td>0</td>\n",
       "      <td>0.0</td>\n",
       "      <td>0.0</td>\n",
       "      <td>0.0</td>\n",
       "      <td>0.0</td>\n",
       "      <td>0.0</td>\n",
       "      <td>0.0</td>\n",
       "      <td>0.0</td>\n",
       "      <td>...</td>\n",
       "      <td>-1.000000</td>\n",
       "      <td>-1.000000</td>\n",
       "      <td>-1.000000</td>\n",
       "      <td>-1.000000</td>\n",
       "      <td>-1.000000</td>\n",
       "      <td>-1.000000</td>\n",
       "      <td>-1.000000</td>\n",
       "      <td>-1.000000</td>\n",
       "      <td>-1.000000</td>\n",
       "      <td>1</td>\n",
       "    </tr>\n",
       "    <tr>\n",
       "      <th>292</th>\n",
       "      <td>0</td>\n",
       "      <td>40th</td>\n",
       "      <td>1</td>\n",
       "      <td>0.0</td>\n",
       "      <td>0.0</td>\n",
       "      <td>0.0</td>\n",
       "      <td>0.0</td>\n",
       "      <td>0.0</td>\n",
       "      <td>0.0</td>\n",
       "      <td>0.0</td>\n",
       "      <td>...</td>\n",
       "      <td>-1.000000</td>\n",
       "      <td>-1.000000</td>\n",
       "      <td>-1.000000</td>\n",
       "      <td>-1.000000</td>\n",
       "      <td>-1.000000</td>\n",
       "      <td>-1.000000</td>\n",
       "      <td>-1.000000</td>\n",
       "      <td>-1.000000</td>\n",
       "      <td>-1.000000</td>\n",
       "      <td>0</td>\n",
       "    </tr>\n",
       "    <tr>\n",
       "      <th>293</th>\n",
       "      <td>0</td>\n",
       "      <td>50th</td>\n",
       "      <td>1</td>\n",
       "      <td>0.0</td>\n",
       "      <td>0.0</td>\n",
       "      <td>0.0</td>\n",
       "      <td>0.0</td>\n",
       "      <td>0.0</td>\n",
       "      <td>0.0</td>\n",
       "      <td>0.0</td>\n",
       "      <td>...</td>\n",
       "      <td>-1.000000</td>\n",
       "      <td>-1.000000</td>\n",
       "      <td>-1.000000</td>\n",
       "      <td>-1.000000</td>\n",
       "      <td>-1.000000</td>\n",
       "      <td>-1.000000</td>\n",
       "      <td>-1.000000</td>\n",
       "      <td>-1.000000</td>\n",
       "      <td>-1.000000</td>\n",
       "      <td>0</td>\n",
       "    </tr>\n",
       "  </tbody>\n",
       "</table>\n",
       "<p>294 rows × 229 columns</p>\n",
       "</div>"
      ],
      "text/plain": [
       "     AGE_ABOVE65 AGE_PERCENTIL  GENDER  DISEASE GROUPING 1  \\\n",
       "0              1          60th       0                 0.0   \n",
       "1              0          10th       0                 0.0   \n",
       "2              0          40th       1                 0.0   \n",
       "3              0          10th       0                 0.0   \n",
       "4              0          10th       0                 0.0   \n",
       "..           ...           ...     ...                 ...   \n",
       "289            0          40th       1                 0.0   \n",
       "290            1    Above 90th       0                 0.0   \n",
       "291            0          50th       0                 0.0   \n",
       "292            0          40th       1                 0.0   \n",
       "293            0          50th       1                 0.0   \n",
       "\n",
       "     DISEASE GROUPING 2  DISEASE GROUPING 3  DISEASE GROUPING 4  \\\n",
       "0                   0.0                 0.0                 0.0   \n",
       "1                   0.0                 0.0                 0.0   \n",
       "2                   0.0                 0.0                 0.0   \n",
       "3                   0.0                 0.0                 0.0   \n",
       "4                   0.0                 0.0                 0.0   \n",
       "..                  ...                 ...                 ...   \n",
       "289                 0.0                 0.0                 0.0   \n",
       "290                 0.0                 0.0                 0.0   \n",
       "291                 0.0                 0.0                 0.0   \n",
       "292                 0.0                 0.0                 0.0   \n",
       "293                 0.0                 0.0                 0.0   \n",
       "\n",
       "     DISEASE GROUPING 5  DISEASE GROUPING 6  HTN  ...  RESPIRATORY_RATE_DIFF  \\\n",
       "0                   1.0                 1.0  0.0  ...              -1.000000   \n",
       "1                   0.0                 0.0  0.0  ...              -0.764706   \n",
       "2                   0.0                 0.0  0.0  ...              -1.000000   \n",
       "3                   0.0                 0.0  0.0  ...              -0.882353   \n",
       "4                   0.0                 0.0  0.0  ...              -1.000000   \n",
       "..                  ...                 ...  ...  ...                    ...   \n",
       "289                 0.0                 0.0  0.0  ...              -1.000000   \n",
       "290                 0.0                 0.0  0.0  ...              -1.000000   \n",
       "291                 0.0                 0.0  0.0  ...              -1.000000   \n",
       "292                 0.0                 0.0  0.0  ...              -1.000000   \n",
       "293                 0.0                 0.0  0.0  ...              -1.000000   \n",
       "\n",
       "     TEMPERATURE_DIFF  OXYGEN_SATURATION_DIFF  \\\n",
       "0           -1.000000               -1.000000   \n",
       "1           -1.000000               -0.959596   \n",
       "2           -1.000000               -1.000000   \n",
       "3           -0.952381               -0.979798   \n",
       "4           -0.976190               -0.979798   \n",
       "..                ...                     ...   \n",
       "289         -1.000000               -1.000000   \n",
       "290         -0.619048               -1.000000   \n",
       "291         -1.000000               -1.000000   \n",
       "292         -1.000000               -1.000000   \n",
       "293         -1.000000               -1.000000   \n",
       "\n",
       "     BLOODPRESSURE_DIASTOLIC_DIFF_REL  BLOODPRESSURE_SISTOLIC_DIFF_REL  \\\n",
       "0                           -1.000000                        -1.000000   \n",
       "1                           -0.515528                        -0.351328   \n",
       "2                           -1.000000                        -1.000000   \n",
       "3                           -1.000000                        -0.883669   \n",
       "4                           -0.860870                        -0.714460   \n",
       "..                                ...                              ...   \n",
       "289                         -1.000000                        -1.000000   \n",
       "290                         -1.000000                        -1.000000   \n",
       "291                         -1.000000                        -1.000000   \n",
       "292                         -1.000000                        -1.000000   \n",
       "293                         -1.000000                        -1.000000   \n",
       "\n",
       "     HEART_RATE_DIFF_REL  RESPIRATORY_RATE_DIFF_REL  TEMPERATURE_DIFF_REL  \\\n",
       "0              -1.000000                  -1.000000             -1.000000   \n",
       "1              -0.747001                  -0.756272             -1.000000   \n",
       "2              -1.000000                  -1.000000             -1.000000   \n",
       "3              -0.956805                  -0.870968             -0.953536   \n",
       "4              -0.986481                  -1.000000             -0.975891   \n",
       "..                   ...                        ...                   ...   \n",
       "289            -1.000000                  -1.000000             -1.000000   \n",
       "290            -1.000000                  -1.000000             -0.612627   \n",
       "291            -1.000000                  -1.000000             -1.000000   \n",
       "292            -1.000000                  -1.000000             -1.000000   \n",
       "293            -1.000000                  -1.000000             -1.000000   \n",
       "\n",
       "     OXYGEN_SATURATION_DIFF_REL  ICU  \n",
       "0                     -1.000000    1  \n",
       "1                     -0.961262    1  \n",
       "2                     -1.000000    0  \n",
       "3                     -0.980333    0  \n",
       "4                     -0.980129    0  \n",
       "..                          ...  ...  \n",
       "289                   -1.000000    1  \n",
       "290                   -1.000000    0  \n",
       "291                   -1.000000    1  \n",
       "292                   -1.000000    0  \n",
       "293                   -1.000000    0  \n",
       "\n",
       "[294 rows x 229 columns]"
      ]
     },
     "execution_count": 4,
     "metadata": {},
     "output_type": "execute_result"
    }
   ],
   "source": [
    "dados"
   ]
  },
  {
   "cell_type": "markdown",
   "metadata": {
    "id": "73jiaeGu6DFO"
   },
   "source": [
    "O dataset utilizado tem 231 colunas com diferentes informações sobre os pacientes, que são as features a serem utilizadas. **São muitas colunas** e provavelmente **várias delas não** têm influência na gravidade da infecção por COVID-19, tendo pouco valor para um modelo de predição. **Pra evitar que esses dados de pouca ou nenhuma relevância levem ao overfitting** do modelo a ser implementado, será feita uma **seleção das features** que serão utilizadas. \n",
    "\n",
    "Isso é necessário pois quando há muitas features, modelos mais complexos são necessários. E considerando que machine learning não tem noção de causalidade, **os modelos tentam estabelecer uma ligação entre todas as features de um dataset com a variável alvo**, mesmo que não haja qualquer relação causal com algumas delas. Isso pode fazer com que o modelo implementado seja impreciso e errôneo.\n",
    "\n"
   ]
  },
  {
   "cell_type": "markdown",
   "metadata": {
    "id": "bVgvEmn-5b-B"
   },
   "source": [
    "Por outro lado, há características que já são classificadas como altamente relevantes no desenvolvimento de formas mais graves da COVID-19, dentre elas a **idade**, o **gênero** e **algumas doenças pré-existentes**, por isso vamos dar atenção especial a elas.\n",
    "\n",
    "Temos dados referentes a essas caracteristicas no dataset. A classificação por gênero masculino ou feminino está na coluna \"GENDER\", sendo '0' para masculino e '1' para feminino. Temos duas colunas referentes aos dados relativos à idade. Uma delas, \"AGE_PERCENTIL\" está numa coluna com dados categóricos que classificam o paciente de '10th' a 'above 90th' ou seja, por faixa de idade (décadas). Uma outra coluna com dados 0 ou 1 indica se o paciente tem mais de 65 anos - \"AGE_ABOVE65\".\n",
    "\n",
    " Com relação às doenças pré-existentes, temos as colunas 'disease grouping'( de 1 a 6), 'HTN'(hipertensão), 'IMMUNOCOMPROMISED' e 'OTHER'. Não há informação no kaggle sobre as doenças em cada grupo. "
   ]
  },
  {
   "cell_type": "markdown",
   "metadata": {
    "id": "R2dra8th_wiT"
   },
   "source": [
    "**Vamos avaliar a distribuição dessas variáveis para verificar como se comportam em relação à variável-alvo (ICU):**"
   ]
  },
  {
   "cell_type": "markdown",
   "metadata": {},
   "source": [
    "Primeiramente, vemos abaixo a distribuição da variável alvo. Cerca de 35,7% dos pacientes contidos no banco de dados precisaram de UTI enquanto que cerca de 64,3% não precisaram. Ou seja, há um desbalanço entre as classes da variável alvo."
   ]
  },
  {
   "cell_type": "code",
   "execution_count": 9,
   "metadata": {},
   "outputs": [
    {
     "data": {
      "text/plain": [
       "0    0.642857\n",
       "1    0.357143\n",
       "Name: ICU, dtype: float64"
      ]
     },
     "execution_count": 9,
     "metadata": {},
     "output_type": "execute_result"
    }
   ],
   "source": [
    "dados['ICU'].value_counts(normalize=True)"
   ]
  },
  {
   "cell_type": "markdown",
   "metadata": {},
   "source": [
    "**Agora, vamos ver a relação da variável alvo com outras variáveis do dataset:**"
   ]
  },
  {
   "cell_type": "code",
   "execution_count": 4,
   "metadata": {
    "id": "qjnhAmIwtEtc"
   },
   "outputs": [],
   "source": [
    "sexo = { 0: \"Masculino\",\n",
    "         1: \"Feminino\"}"
   ]
  },
  {
   "cell_type": "markdown",
   "metadata": {
    "id": "YpRkiUG-ADHY"
   },
   "source": [
    "Com relação ao gênero, **há maior predominância de pacientes do sexo masculino**, que correspondem a cerca de 60% dos casos, sendo que destes, mais da metade precisou de internação em UTI. Provavelmente essa feature deverá ser importante para os modelos de predição a serem testados"
   ]
  },
  {
   "cell_type": "code",
   "execution_count": 5,
   "metadata": {
    "colab": {
     "base_uri": "https://localhost:8080/",
     "height": 141
    },
    "id": "Fx-ccrjGsS8s",
    "outputId": "b653fe58-9aa3-4a18-c101-e419e79e1d07"
   },
   "outputs": [],
   "source": [
    "gender = pd.crosstab(dados['GENDER'], dados['ICU'], normalize=True)*100\n",
    "gender.rename(index= sexo, inplace= True)\n",
    "gender.round(2)\n",
    "stacked = gender.stack().reset_index().rename(columns={0:'porcentagem'})\n"
   ]
  },
  {
   "cell_type": "code",
   "execution_count": 6,
   "metadata": {},
   "outputs": [],
   "source": [
    "plt.rcParams.update({'figure.figsize': (10.0, 6.0)})\n",
    "plt.rcParams.update({'font.size': 12})"
   ]
  },
  {
   "cell_type": "code",
   "execution_count": 7,
   "metadata": {
    "colab": {
     "base_uri": "https://localhost:8080/",
     "height": 336
    },
    "id": "RnYQVxrssuVb",
    "outputId": "eea70807-b12a-44a0-999b-c338a3159a78"
   },
   "outputs": [
    {
     "data": {
      "image/png": "[encoded data removed]",
      "text/plain": [
       "<Figure size 720x432 with 1 Axes>"
      ]
     },
     "metadata": {},
     "output_type": "display_data"
    }
   ],
   "source": [
    "sns.set_theme(style=\"whitegrid\")\n",
    "sns.barplot(x=stacked.GENDER, y=stacked.porcentagem, hue=stacked.ICU, palette='Set2')\n",
    "plt.title(\"Porcentagem de pacientes que precisaram de UTI por gênero\", fontsize= 16, weight='bold', color='#777D62' )\n",
    "plt.tick_params(labelcolor= '#777D62')\n",
    "plt.xlabel('Gênero', color='#777D62' )\n",
    "plt.ylabel('Porcentagem', color='#777D62')\n",
    "plt.show()"
   ]
  },
  {
   "cell_type": "markdown",
   "metadata": {
    "id": "ylPNCa5TB0bn"
   },
   "source": [
    "Com relação à idade, apesar de haver um maior número de pacientes abaixo dos 65 anos, isso se explica facilmente pela predominância de pessoas mais jovens na população em geral que, portanto, é mais afetada em números absolutos. Entretanto, conforme podemos verificar pelo gráfico abaixo, **a proporção dos que necessitam de UTI dentre os menores de 65 anos é muito menor** do que para aqueles com mais de 65 anos, faixa para qual a proporção é praticamente 1:1."
   ]
  },
  {
   "cell_type": "code",
   "execution_count": 8,
   "metadata": {
    "id": "FKljwcc6yna0"
   },
   "outputs": [],
   "source": [
    "idade = {0:\"abaixo de 65 anos\", \n",
    "         1: \"acima de 65 anos\"}"
   ]
  },
  {
   "cell_type": "code",
   "execution_count": 9,
   "metadata": {
    "id": "j-BqPqkEyUnq"
   },
   "outputs": [],
   "source": [
    "age_above_65= pd.crosstab(dados['AGE_ABOVE65'], dados['ICU'], normalize= True)*100\n",
    "age_above_65.rename(index= idade, inplace= True)\n",
    "stacked = age_above_65.stack().reset_index().rename(columns={0:'porcentagem'})"
   ]
  },
  {
   "cell_type": "code",
   "execution_count": 10,
   "metadata": {},
   "outputs": [
    {
     "data": {
      "image/png": "[encoded data removed]",
      "text/plain": [
       "<Figure size 720x432 with 1 Axes>"
      ]
     },
     "metadata": {},
     "output_type": "display_data"
    }
   ],
   "source": [
    "sns.barplot(x=stacked.AGE_ABOVE65, y=stacked.porcentagem, hue=stacked.ICU, palette='Set2')\n",
    "plt.title(\"Porcentagem de pacientes acima e abaixo de 65 anos que precisaram de UTI\", fontsize= 16, weight='bold', color='#777D62', pad = 20 )\n",
    "plt.tick_params(labelcolor= '#777D62', size = 14)\n",
    "plt.xlabel('')\n",
    "plt.ylabel('Porcentagem', color='#777D62')\n",
    "plt.show()"
   ]
  },
  {
   "cell_type": "code",
   "execution_count": 11,
   "metadata": {
    "colab": {
     "base_uri": "https://localhost:8080/",
     "height": 385
    },
    "id": "G6LSQBUSIv3r",
    "outputId": "9b6ec950-d0c3-45db-e69e-5b45df6c5251"
   },
   "outputs": [
    {
     "data": {
      "text/html": [
       "<div>\n",
       "<style scoped>\n",
       "    .dataframe tbody tr th:only-of-type {\n",
       "        vertical-align: middle;\n",
       "    }\n",
       "\n",
       "    .dataframe tbody tr th {\n",
       "        vertical-align: top;\n",
       "    }\n",
       "\n",
       "    .dataframe thead th {\n",
       "        text-align: right;\n",
       "    }\n",
       "</style>\n",
       "<table border=\"1\" class=\"dataframe\">\n",
       "  <thead>\n",
       "    <tr style=\"text-align: right;\">\n",
       "      <th>ICU</th>\n",
       "      <th>0</th>\n",
       "      <th>1</th>\n",
       "    </tr>\n",
       "    <tr>\n",
       "      <th>AGE_PERCENTIL</th>\n",
       "      <th></th>\n",
       "      <th></th>\n",
       "    </tr>\n",
       "  </thead>\n",
       "  <tbody>\n",
       "    <tr>\n",
       "      <th>10th</th>\n",
       "      <td>10.20</td>\n",
       "      <td>2.04</td>\n",
       "    </tr>\n",
       "    <tr>\n",
       "      <th>20th</th>\n",
       "      <td>10.54</td>\n",
       "      <td>2.38</td>\n",
       "    </tr>\n",
       "    <tr>\n",
       "      <th>30th</th>\n",
       "      <td>7.82</td>\n",
       "      <td>3.74</td>\n",
       "    </tr>\n",
       "    <tr>\n",
       "      <th>40th</th>\n",
       "      <td>8.50</td>\n",
       "      <td>2.72</td>\n",
       "    </tr>\n",
       "    <tr>\n",
       "      <th>50th</th>\n",
       "      <td>6.12</td>\n",
       "      <td>4.42</td>\n",
       "    </tr>\n",
       "    <tr>\n",
       "      <th>60th</th>\n",
       "      <td>5.78</td>\n",
       "      <td>3.74</td>\n",
       "    </tr>\n",
       "    <tr>\n",
       "      <th>70th</th>\n",
       "      <td>5.78</td>\n",
       "      <td>4.42</td>\n",
       "    </tr>\n",
       "    <tr>\n",
       "      <th>80th</th>\n",
       "      <td>4.08</td>\n",
       "      <td>4.76</td>\n",
       "    </tr>\n",
       "    <tr>\n",
       "      <th>90th</th>\n",
       "      <td>2.72</td>\n",
       "      <td>4.08</td>\n",
       "    </tr>\n",
       "    <tr>\n",
       "      <th>Above 90th</th>\n",
       "      <td>2.72</td>\n",
       "      <td>3.40</td>\n",
       "    </tr>\n",
       "  </tbody>\n",
       "</table>\n",
       "</div>"
      ],
      "text/plain": [
       "ICU                0     1\n",
       "AGE_PERCENTIL             \n",
       "10th           10.20  2.04\n",
       "20th           10.54  2.38\n",
       "30th            7.82  3.74\n",
       "40th            8.50  2.72\n",
       "50th            6.12  4.42\n",
       "60th            5.78  3.74\n",
       "70th            5.78  4.42\n",
       "80th            4.08  4.76\n",
       "90th            2.72  4.08\n",
       "Above 90th      2.72  3.40"
      ]
     },
     "execution_count": 11,
     "metadata": {},
     "output_type": "execute_result"
    }
   ],
   "source": [
    "faixa_etaria = pd.crosstab(dados['AGE_PERCENTIL'], dados['ICU'], normalize=True)*100\n",
    "stacked = faixa_etaria.stack().reset_index().rename(columns={0:'value'})\n",
    "faixa_etaria.round(2)\n"
   ]
  },
  {
   "cell_type": "code",
   "execution_count": 12,
   "metadata": {
    "colab": {
     "base_uri": "https://localhost:8080/",
     "height": 344
    },
    "id": "dmiAEChTKWpP",
    "outputId": "3ffd1327-7909-4367-9c93-b9a1204be129"
   },
   "outputs": [
    {
     "data": {
      "image/png": "[encoded data removed]",
      "text/plain": [
       "<Figure size 720x432 with 1 Axes>"
      ]
     },
     "metadata": {},
     "output_type": "display_data"
    }
   ],
   "source": [
    "sns.barplot(x=stacked.AGE_PERCENTIL, y=stacked.value, hue=stacked.ICU)\n",
    "plt.title(\"Porcentagem de pacientes que precisaram de UTI por faixa etária\", fontsize= 16, weight='bold', color='#777D62', pad=15 )\n",
    "plt.tick_params(labelcolor= '#777D62')\n",
    "plt.xlabel('Faixa etária', color='#777D62', fontsize= 14)\n",
    "plt.ylabel('Porcentagem', color='#777D62', fontsize= 14)\n",
    "plt.show()\n"
   ]
  },
  {
   "cell_type": "markdown",
   "metadata": {
    "id": "5QmWhcJ5McAo"
   },
   "source": [
    "O risco por faixa etária é similar entre algumas classes, sendo que para 80 anos ou mais, o percentual de pacientes que precisou de UTI é mais do que a metade dos pacientes admitidos que estão nessas faixas etárias."
   ]
  },
  {
   "cell_type": "markdown",
   "metadata": {
    "id": "5mDWde0GM4Ff"
   },
   "source": [
    "Segue uma tabela do CDC que mostra, com base nos dados dos casos nos Estados Unidos, a proporção de risco por faixa etária em comparação com a faixa dos 18-29 anos:"
   ]
  },
  {
   "cell_type": "markdown",
   "metadata": {
    "id": "EcPjPlCr5Ulh"
   },
   "source": [
    "![cdc_age_risk.png](data:image/png;base64,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)\n",
    "*fonte: cdc.gov*"
   ]
  },
  {
   "cell_type": "markdown",
   "metadata": {
    "id": "i427gaecDDQR"
   },
   "source": [
    "Essa feature parece ser importante, mas para utilizarmos os dados da coluna 'AGE_PERCENTIL' nos modelos, será necessário transformar esses dados categóricos para tipo inteiro ou float. Uma forma de fazer essa conversão preservando a proporcionalidade do efeito de cada faixa é pela criação de n colunas, uma para cada uma das faixas, atribuindo o valor um para as linhas onde os valores forem presentes. O problema desse método é que adicionaremos ainda mais 'features' aos modelos, o que pode levar ao overfitting.\n",
    "\n",
    "Além disso, como vimos, a divisão por faixa etária utilizada não parece ser a mais adequada, visto que tantos os nossos dados quanto os dados do CDC parecem mostram que o risco é aumentado conforme diferentes agrupamentos de idades e com pesos diferentes.\n"
   ]
  },
  {
   "cell_type": "markdown",
   "metadata": {
    "id": "8ZitQcq7B6-q"
   },
   "source": [
    "Ainda assim, testarei o desempenho dos modelos com essas variáveis. Para isso, vou gerar n colunas, uma para cada uma das faixas e atribuir 0 ou 1 de acorda com a idade do paciente, utilizando o pd.get_dummies.\n"
   ]
  },
  {
   "cell_type": "code",
   "execution_count": 37,
   "metadata": {},
   "outputs": [],
   "source": [
    "dados =pd.get_dummies(dados, columns=[\"AGE_PERCENTIL\"])"
   ]
  },
  {
   "cell_type": "code",
   "execution_count": 12,
   "metadata": {},
   "outputs": [],
   "source": [
    "disease= {1.0: 'Presente', \n",
    "         0.0: 'Ausente'}"
   ]
  },
  {
   "cell_type": "code",
   "execution_count": 21,
   "metadata": {},
   "outputs": [],
   "source": [
    "def disease_tab(coluna):\n",
    "    tabela = pd.crosstab(dados[coluna], dados['ICU'], normalize=True)*100\n",
    "    tabela.rename(index= disease, inplace= True)\n",
    "    return tabela"
   ]
  },
  {
   "cell_type": "code",
   "execution_count": 26,
   "metadata": {
    "colab": {
     "base_uri": "https://localhost:8080/",
     "height": 141
    },
    "id": "Fx-ccrjGsS8s",
    "outputId": "b653fe58-9aa3-4a18-c101-e419e79e1d07"
   },
   "outputs": [
    {
     "data": {
      "text/html": [
       "<div>\n",
       "<style scoped>\n",
       "    .dataframe tbody tr th:only-of-type {\n",
       "        vertical-align: middle;\n",
       "    }\n",
       "\n",
       "    .dataframe tbody tr th {\n",
       "        vertical-align: top;\n",
       "    }\n",
       "\n",
       "    .dataframe thead th {\n",
       "        text-align: right;\n",
       "    }\n",
       "</style>\n",
       "<table border=\"1\" class=\"dataframe\">\n",
       "  <thead>\n",
       "    <tr style=\"text-align: right;\">\n",
       "      <th>ICU</th>\n",
       "      <th>0</th>\n",
       "      <th>1</th>\n",
       "    </tr>\n",
       "    <tr>\n",
       "      <th>DISEASE GROUPING 1</th>\n",
       "      <th></th>\n",
       "      <th></th>\n",
       "    </tr>\n",
       "  </thead>\n",
       "  <tbody>\n",
       "    <tr>\n",
       "      <th>Ausente</th>\n",
       "      <td>58.84</td>\n",
       "      <td>31.63</td>\n",
       "    </tr>\n",
       "    <tr>\n",
       "      <th>Presente</th>\n",
       "      <td>5.44</td>\n",
       "      <td>4.08</td>\n",
       "    </tr>\n",
       "  </tbody>\n",
       "</table>\n",
       "</div>"
      ],
      "text/plain": [
       "ICU                     0      1\n",
       "DISEASE GROUPING 1              \n",
       "Ausente             58.84  31.63\n",
       "Presente             5.44   4.08"
      ]
     },
     "execution_count": 26,
     "metadata": {},
     "output_type": "execute_result"
    }
   ],
   "source": [
    "disease_1 = disease_tab('DISEASE GROUPING 1')\n",
    "disease_1.round(2)"
   ]
  },
  {
   "cell_type": "code",
   "execution_count": 27,
   "metadata": {
    "colab": {
     "base_uri": "https://localhost:8080/",
     "height": 141
    },
    "id": "Fx-ccrjGsS8s",
    "outputId": "b653fe58-9aa3-4a18-c101-e419e79e1d07"
   },
   "outputs": [
    {
     "data": {
      "text/html": [
       "<div>\n",
       "<style scoped>\n",
       "    .dataframe tbody tr th:only-of-type {\n",
       "        vertical-align: middle;\n",
       "    }\n",
       "\n",
       "    .dataframe tbody tr th {\n",
       "        vertical-align: top;\n",
       "    }\n",
       "\n",
       "    .dataframe thead th {\n",
       "        text-align: right;\n",
       "    }\n",
       "</style>\n",
       "<table border=\"1\" class=\"dataframe\">\n",
       "  <thead>\n",
       "    <tr style=\"text-align: right;\">\n",
       "      <th>ICU</th>\n",
       "      <th>0</th>\n",
       "      <th>1</th>\n",
       "    </tr>\n",
       "    <tr>\n",
       "      <th>DISEASE GROUPING 2</th>\n",
       "      <th></th>\n",
       "      <th></th>\n",
       "    </tr>\n",
       "  </thead>\n",
       "  <tbody>\n",
       "    <tr>\n",
       "      <th>Ausente</th>\n",
       "      <td>63.61</td>\n",
       "      <td>34.01</td>\n",
       "    </tr>\n",
       "    <tr>\n",
       "      <th>Presente</th>\n",
       "      <td>0.68</td>\n",
       "      <td>1.70</td>\n",
       "    </tr>\n",
       "  </tbody>\n",
       "</table>\n",
       "</div>"
      ],
      "text/plain": [
       "ICU                     0      1\n",
       "DISEASE GROUPING 2              \n",
       "Ausente             63.61  34.01\n",
       "Presente             0.68   1.70"
      ]
     },
     "execution_count": 27,
     "metadata": {},
     "output_type": "execute_result"
    }
   ],
   "source": [
    "disease_2= disease_tab('DISEASE GROUPING 2')\n",
    "disease_2.round(2)"
   ]
  },
  {
   "cell_type": "code",
   "execution_count": 28,
   "metadata": {
    "colab": {
     "base_uri": "https://localhost:8080/",
     "height": 141
    },
    "id": "Fx-ccrjGsS8s",
    "outputId": "b653fe58-9aa3-4a18-c101-e419e79e1d07"
   },
   "outputs": [
    {
     "data": {
      "text/html": [
       "<div>\n",
       "<style scoped>\n",
       "    .dataframe tbody tr th:only-of-type {\n",
       "        vertical-align: middle;\n",
       "    }\n",
       "\n",
       "    .dataframe tbody tr th {\n",
       "        vertical-align: top;\n",
       "    }\n",
       "\n",
       "    .dataframe thead th {\n",
       "        text-align: right;\n",
       "    }\n",
       "</style>\n",
       "<table border=\"1\" class=\"dataframe\">\n",
       "  <thead>\n",
       "    <tr style=\"text-align: right;\">\n",
       "      <th>ICU</th>\n",
       "      <th>0</th>\n",
       "      <th>1</th>\n",
       "    </tr>\n",
       "    <tr>\n",
       "      <th>DISEASE GROUPING 3</th>\n",
       "      <th></th>\n",
       "      <th></th>\n",
       "    </tr>\n",
       "  </thead>\n",
       "  <tbody>\n",
       "    <tr>\n",
       "      <th>Ausente</th>\n",
       "      <td>60.54</td>\n",
       "      <td>30.95</td>\n",
       "    </tr>\n",
       "    <tr>\n",
       "      <th>Presente</th>\n",
       "      <td>3.74</td>\n",
       "      <td>4.76</td>\n",
       "    </tr>\n",
       "  </tbody>\n",
       "</table>\n",
       "</div>"
      ],
      "text/plain": [
       "ICU                     0      1\n",
       "DISEASE GROUPING 3              \n",
       "Ausente             60.54  30.95\n",
       "Presente             3.74   4.76"
      ]
     },
     "execution_count": 28,
     "metadata": {},
     "output_type": "execute_result"
    }
   ],
   "source": [
    "disease_3 = disease_tab('DISEASE GROUPING 3')\n",
    "disease_3.round(2)"
   ]
  },
  {
   "cell_type": "code",
   "execution_count": 29,
   "metadata": {
    "colab": {
     "base_uri": "https://localhost:8080/",
     "height": 141
    },
    "id": "Fx-ccrjGsS8s",
    "outputId": "b653fe58-9aa3-4a18-c101-e419e79e1d07"
   },
   "outputs": [
    {
     "data": {
      "text/html": [
       "<div>\n",
       "<style scoped>\n",
       "    .dataframe tbody tr th:only-of-type {\n",
       "        vertical-align: middle;\n",
       "    }\n",
       "\n",
       "    .dataframe tbody tr th {\n",
       "        vertical-align: top;\n",
       "    }\n",
       "\n",
       "    .dataframe thead th {\n",
       "        text-align: right;\n",
       "    }\n",
       "</style>\n",
       "<table border=\"1\" class=\"dataframe\">\n",
       "  <thead>\n",
       "    <tr style=\"text-align: right;\">\n",
       "      <th>ICU</th>\n",
       "      <th>0</th>\n",
       "      <th>1</th>\n",
       "    </tr>\n",
       "    <tr>\n",
       "      <th>DISEASE GROUPING 4</th>\n",
       "      <th></th>\n",
       "      <th></th>\n",
       "    </tr>\n",
       "  </thead>\n",
       "  <tbody>\n",
       "    <tr>\n",
       "      <th>Ausente</th>\n",
       "      <td>63.95</td>\n",
       "      <td>34.01</td>\n",
       "    </tr>\n",
       "    <tr>\n",
       "      <th>Presente</th>\n",
       "      <td>0.34</td>\n",
       "      <td>1.70</td>\n",
       "    </tr>\n",
       "  </tbody>\n",
       "</table>\n",
       "</div>"
      ],
      "text/plain": [
       "ICU                     0      1\n",
       "DISEASE GROUPING 4              \n",
       "Ausente             63.95  34.01\n",
       "Presente             0.34   1.70"
      ]
     },
     "execution_count": 29,
     "metadata": {},
     "output_type": "execute_result"
    }
   ],
   "source": [
    "disease_4 = disease_tab('DISEASE GROUPING 4')\n",
    "disease_4.round(2)"
   ]
  },
  {
   "cell_type": "code",
   "execution_count": 30,
   "metadata": {
    "colab": {
     "base_uri": "https://localhost:8080/",
     "height": 141
    },
    "id": "Fx-ccrjGsS8s",
    "outputId": "b653fe58-9aa3-4a18-c101-e419e79e1d07"
   },
   "outputs": [
    {
     "data": {
      "text/html": [
       "<div>\n",
       "<style scoped>\n",
       "    .dataframe tbody tr th:only-of-type {\n",
       "        vertical-align: middle;\n",
       "    }\n",
       "\n",
       "    .dataframe tbody tr th {\n",
       "        vertical-align: top;\n",
       "    }\n",
       "\n",
       "    .dataframe thead th {\n",
       "        text-align: right;\n",
       "    }\n",
       "</style>\n",
       "<table border=\"1\" class=\"dataframe\">\n",
       "  <thead>\n",
       "    <tr style=\"text-align: right;\">\n",
       "      <th>ICU</th>\n",
       "      <th>0</th>\n",
       "      <th>1</th>\n",
       "    </tr>\n",
       "    <tr>\n",
       "      <th>DISEASE GROUPING 5</th>\n",
       "      <th></th>\n",
       "      <th></th>\n",
       "    </tr>\n",
       "  </thead>\n",
       "  <tbody>\n",
       "    <tr>\n",
       "      <th>Ausente</th>\n",
       "      <td>58.50</td>\n",
       "      <td>29.93</td>\n",
       "    </tr>\n",
       "    <tr>\n",
       "      <th>Presente</th>\n",
       "      <td>5.78</td>\n",
       "      <td>5.78</td>\n",
       "    </tr>\n",
       "  </tbody>\n",
       "</table>\n",
       "</div>"
      ],
      "text/plain": [
       "ICU                     0      1\n",
       "DISEASE GROUPING 5              \n",
       "Ausente             58.50  29.93\n",
       "Presente             5.78   5.78"
      ]
     },
     "execution_count": 30,
     "metadata": {},
     "output_type": "execute_result"
    }
   ],
   "source": [
    "disease_5 = disease_tab('DISEASE GROUPING 5')\n",
    "disease_5.round(2)"
   ]
  },
  {
   "cell_type": "code",
   "execution_count": 31,
   "metadata": {
    "colab": {
     "base_uri": "https://localhost:8080/",
     "height": 141
    },
    "id": "Fx-ccrjGsS8s",
    "outputId": "b653fe58-9aa3-4a18-c101-e419e79e1d07"
   },
   "outputs": [
    {
     "data": {
      "text/html": [
       "<div>\n",
       "<style scoped>\n",
       "    .dataframe tbody tr th:only-of-type {\n",
       "        vertical-align: middle;\n",
       "    }\n",
       "\n",
       "    .dataframe tbody tr th {\n",
       "        vertical-align: top;\n",
       "    }\n",
       "\n",
       "    .dataframe thead th {\n",
       "        text-align: right;\n",
       "    }\n",
       "</style>\n",
       "<table border=\"1\" class=\"dataframe\">\n",
       "  <thead>\n",
       "    <tr style=\"text-align: right;\">\n",
       "      <th>ICU</th>\n",
       "      <th>0</th>\n",
       "      <th>1</th>\n",
       "    </tr>\n",
       "    <tr>\n",
       "      <th>DISEASE GROUPING 6</th>\n",
       "      <th></th>\n",
       "      <th></th>\n",
       "    </tr>\n",
       "  </thead>\n",
       "  <tbody>\n",
       "    <tr>\n",
       "      <th>Ausente</th>\n",
       "      <td>61.22</td>\n",
       "      <td>34.01</td>\n",
       "    </tr>\n",
       "    <tr>\n",
       "      <th>Presente</th>\n",
       "      <td>3.06</td>\n",
       "      <td>1.70</td>\n",
       "    </tr>\n",
       "  </tbody>\n",
       "</table>\n",
       "</div>"
      ],
      "text/plain": [
       "ICU                     0      1\n",
       "DISEASE GROUPING 6              \n",
       "Ausente             61.22  34.01\n",
       "Presente             3.06   1.70"
      ]
     },
     "execution_count": 31,
     "metadata": {},
     "output_type": "execute_result"
    }
   ],
   "source": [
    "disease_6 = disease_tab('DISEASE GROUPING 6')\n",
    "disease_6.round(2)"
   ]
  },
  {
   "cell_type": "markdown",
   "metadata": {},
   "source": [
    "**Vemos que para todos os grupos de comorbidades, quando a comorbidade está ausente, a chance do paciente precisar de UTI caiu pela metade.** Por isso, optei por manter essas variáveis no modelo, pois elas podem ser importantes para os modelos de classificação a serem implementados."
   ]
  },
  {
   "cell_type": "markdown",
   "metadata": {},
   "source": [
    "Temos muitas colunas(features) no dataset que se referem aos resultados de exames realizados e medições de sinais vitais e muitas dessas colunas, pelo que observei, tem dados semelhantes ou iguais, dadoss altamente correlacionados ou ainda, para certas features não há variação de valores entre os pacientes. Para simplificar a construção do modelo e eliminar essas informações que não são capazes de ajudar o algoritmo na classificação dos pacientes, **vou fazer uma seleção dessas features, excluindo as que forem desnecessárias do dataset**."
   ]
  },
  {
   "cell_type": "markdown",
   "metadata": {
    "id": "jg-Z-hMfNiLQ"
   },
   "source": [
    "\n",
    "\n",
    "### **Seleção das features para uso no treinamento dos modelos**\n",
    "\n"
   ]
  },
  {
   "cell_type": "markdown",
   "metadata": {},
   "source": [
    "As funções utilizadas para modificar o dataset na seleção das features estão implementadas nesse [arquivo](https://github.com/camilasp/Projeto_Sirio_Libanes/blob/master/funcoes.py)."
   ]
  },
  {
   "cell_type": "markdown",
   "metadata": {
    "id": "hOCsU8LG_cjH"
   },
   "source": [
    "**Exclusão de colunas com um único valor**"
   ]
  },
  {
   "cell_type": "markdown",
   "metadata": {
    "id": "fnEvuWmF2p_v"
   },
   "source": [
    "As colunas que tem um valor único valor para todos os pacientes serão excluídas, considerando que se os dados de um elemento avaliado não são diferentes entre os pacientes que foram para UTI e os que não foram, esse elemento não nos ajuda a classificar os pacientes. "
   ]
  },
  {
   "cell_type": "markdown",
   "metadata": {},
   "source": [
    " O código abaixo chama a função que faz a exclusão dessas colunas e salva o dataframe com essa modificação, além de imprimir os nomes das colunas excluídas."
   ]
  },
  {
   "cell_type": "code",
   "execution_count": 38,
   "metadata": {},
   "outputs": [
    {
     "name": "stdout",
     "output_type": "stream",
     "text": [
      "['ALBUMIN_DIFF', 'BE_ARTERIAL_DIFF', 'BE_VENOUS_DIFF', 'BIC_ARTERIAL_DIFF', 'BIC_VENOUS_DIFF', 'BILLIRUBIN_DIFF', 'BLAST_DIFF', 'CALCIUM_DIFF', 'CREATININ_DIFF', 'FFA_DIFF', 'GGT_DIFF', 'GLUCOSE_DIFF', 'HEMATOCRITE_DIFF', 'HEMOGLOBIN_DIFF', 'INR_DIFF', 'LACTATE_DIFF', 'LEUKOCYTES_DIFF', 'LINFOCITOS_DIFF', 'NEUTROPHILES_DIFF', 'P02_ARTERIAL_DIFF', 'P02_VENOUS_DIFF', 'PC02_ARTERIAL_DIFF', 'PC02_VENOUS_DIFF', 'PCR_DIFF', 'PH_ARTERIAL_DIFF', 'PH_VENOUS_DIFF', 'PLATELETS_DIFF', 'POTASSIUM_DIFF', 'SAT02_ARTERIAL_DIFF', 'SAT02_VENOUS_DIFF', 'SODIUM_DIFF', 'TGO_DIFF', 'TGP_DIFF', 'TTPA_DIFF', 'UREA_DIFF', 'DIMER_DIFF']\n"
     ]
    }
   ],
   "source": [
    "dados_limpos = exclui_colunas_unico_valor(dados)"
   ]
  },
  {
   "cell_type": "markdown",
   "metadata": {},
   "source": [
    "**Exclusão das colunas com valores quase constantes**"
   ]
  },
  {
   "cell_type": "markdown",
   "metadata": {},
   "source": [
    "Exclusão das colunas com dados quase constantes, com muito pouca variancia (99,5% de similaridade). O código abaixo chama a função que faz a exclusão dessas colunas e salva o dataframe com essa modificação, além de imprimir os nomes das colunas excluídas."
   ]
  },
  {
   "cell_type": "code",
   "execution_count": 39,
   "metadata": {},
   "outputs": [
    {
     "name": "stdout",
     "output_type": "stream",
     "text": [
      "['BE_ARTERIAL_MEDIAN', 'BE_ARTERIAL_MEAN', 'BE_ARTERIAL_MIN', 'BE_ARTERIAL_MAX', 'BIC_ARTERIAL_MEDIAN', 'BIC_ARTERIAL_MEAN', 'BIC_ARTERIAL_MIN', 'BIC_ARTERIAL_MAX', 'BILLIRUBIN_MEDIAN', 'BILLIRUBIN_MEAN', 'BILLIRUBIN_MIN', 'BILLIRUBIN_MAX', 'BLAST_MEDIAN', 'BLAST_MEAN', 'BLAST_MIN', 'BLAST_MAX', 'INR_MEDIAN', 'INR_MEAN', 'INR_MIN', 'INR_MAX', 'P02_ARTERIAL_MEDIAN', 'P02_ARTERIAL_MEAN', 'P02_ARTERIAL_MIN', 'P02_ARTERIAL_MAX', 'PC02_ARTERIAL_MEDIAN', 'PC02_ARTERIAL_MEAN', 'PC02_ARTERIAL_MIN', 'PC02_ARTERIAL_MAX', 'PC02_VENOUS_MEDIAN', 'PC02_VENOUS_MEAN', 'PC02_VENOUS_MIN', 'PC02_VENOUS_MAX', 'PH_ARTERIAL_MEDIAN', 'PH_ARTERIAL_MEAN', 'PH_ARTERIAL_MIN', 'PH_ARTERIAL_MAX', 'TGO_MEDIAN', 'TGO_MEAN', 'TGO_MIN', 'TGO_MAX', 'TGP_MEDIAN', 'TGP_MEAN', 'TGP_MIN', 'TGP_MAX', 'TTPA_MEDIAN', 'TTPA_MEAN', 'TTPA_MIN', 'TTPA_MAX', 'OXYGEN_SATURATION_MIN', 'OXYGEN_SATURATION_DIFF', 'HEART_RATE_DIFF_REL', 'OXYGEN_SATURATION_DIFF_REL']\n"
     ]
    }
   ],
   "source": [
    "dados_limpos= exclui_colunas_quase_constantes(dados_limpos)"
   ]
  },
  {
   "cell_type": "markdown",
   "metadata": {},
   "source": [
    "**Exclusão das colunas duplicadas**"
   ]
  },
  {
   "cell_type": "markdown",
   "metadata": {},
   "source": [
    "Exclusão das colunas com dados 100% iguais, ou seja, duplicadas, mantendo a primeira dentre as 'cópias'.O código abaixo chama a função que faz a exclusão dessas colunas e salva o dataframe com essa modificação."
   ]
  },
  {
   "cell_type": "code",
   "execution_count": 40,
   "metadata": {},
   "outputs": [],
   "source": [
    "dados_limpos = exclui_colunas_dados_duplicados(dados_limpos)"
   ]
  },
  {
   "cell_type": "markdown",
   "metadata": {
    "id": "7Z2LUjsOmoLr"
   },
   "source": [
    "**Exclusão das colunas com alta correlação**"
   ]
  },
  {
   "cell_type": "markdown",
   "metadata": {},
   "source": [
    "Exclusão das colunas com correlação maior que 0.85. O código abaixo chama a função que faz a exclusão dessas colunas e salva o dataframe com essa modificação, além de imprimir os nomes das colunas excluídas."
   ]
  },
  {
   "cell_type": "code",
   "execution_count": 41,
   "metadata": {},
   "outputs": [
    {
     "name": "stdout",
     "output_type": "stream",
     "text": [
      "{'OXYGEN_SATURATION_MEDIAN', 'HEART_RATE_MEDIAN', 'RESPIRATORY_RATE_MIN', 'BLOODPRESSURE_SISTOLIC_MAX', 'BLOODPRESSURE_SISTOLIC_MEDIAN', 'RESPIRATORY_RATE_DIFF_REL', 'BLOODPRESSURE_DIASTOLIC_DIFF_REL', 'BLOODPRESSURE_SISTOLIC_MIN', 'BLOODPRESSURE_DIASTOLIC_MAX', 'BLOODPRESSURE_DIASTOLIC_MEDIAN', 'BLOODPRESSURE_SISTOLIC_DIFF_REL', 'RESPIRATORY_RATE_MAX', 'NEUTROPHILES_MEDIAN', 'HEMOGLOBIN_MEDIAN', 'OXYGEN_SATURATION_MAX', 'TEMPERATURE_DIFF_REL', 'TEMPERATURE_MEDIAN', 'BLOODPRESSURE_DIASTOLIC_MIN', 'TEMPERATURE_MIN', 'HEART_RATE_MIN', 'TEMPERATURE_MAX', 'HEART_RATE_MAX', 'RESPIRATORY_RATE_MEDIAN'}\n"
     ]
    }
   ],
   "source": [
    "dados_limpos= elimina_features_alta_correlacao(dados_limpos)"
   ]
  },
  {
   "cell_type": "markdown",
   "metadata": {},
   "source": [
    "**Após as exclusões efetuadas, o dataset ficou assim:**"
   ]
  },
  {
   "cell_type": "code",
   "execution_count": 42,
   "metadata": {},
   "outputs": [
    {
     "data": {
      "text/html": [
       "<div>\n",
       "<style scoped>\n",
       "    .dataframe tbody tr th:only-of-type {\n",
       "        vertical-align: middle;\n",
       "    }\n",
       "\n",
       "    .dataframe tbody tr th {\n",
       "        vertical-align: top;\n",
       "    }\n",
       "\n",
       "    .dataframe thead th {\n",
       "        text-align: right;\n",
       "    }\n",
       "</style>\n",
       "<table border=\"1\" class=\"dataframe\">\n",
       "  <thead>\n",
       "    <tr style=\"text-align: right;\">\n",
       "      <th></th>\n",
       "      <th>AGE_ABOVE65</th>\n",
       "      <th>GENDER</th>\n",
       "      <th>DISEASE GROUPING 1</th>\n",
       "      <th>DISEASE GROUPING 2</th>\n",
       "      <th>DISEASE GROUPING 3</th>\n",
       "      <th>DISEASE GROUPING 4</th>\n",
       "      <th>DISEASE GROUPING 5</th>\n",
       "      <th>DISEASE GROUPING 6</th>\n",
       "      <th>HTN</th>\n",
       "      <th>IMMUNOCOMPROMISED</th>\n",
       "      <th>...</th>\n",
       "      <th>AGE_PERCENTIL_10th</th>\n",
       "      <th>AGE_PERCENTIL_20th</th>\n",
       "      <th>AGE_PERCENTIL_30th</th>\n",
       "      <th>AGE_PERCENTIL_40th</th>\n",
       "      <th>AGE_PERCENTIL_50th</th>\n",
       "      <th>AGE_PERCENTIL_60th</th>\n",
       "      <th>AGE_PERCENTIL_70th</th>\n",
       "      <th>AGE_PERCENTIL_80th</th>\n",
       "      <th>AGE_PERCENTIL_90th</th>\n",
       "      <th>AGE_PERCENTIL_Above 90th</th>\n",
       "    </tr>\n",
       "  </thead>\n",
       "  <tbody>\n",
       "    <tr>\n",
       "      <th>0</th>\n",
       "      <td>1.0</td>\n",
       "      <td>0.0</td>\n",
       "      <td>0.0</td>\n",
       "      <td>0.0</td>\n",
       "      <td>0.0</td>\n",
       "      <td>0.0</td>\n",
       "      <td>1.0</td>\n",
       "      <td>1.0</td>\n",
       "      <td>0.0</td>\n",
       "      <td>0.0</td>\n",
       "      <td>...</td>\n",
       "      <td>0.0</td>\n",
       "      <td>0.0</td>\n",
       "      <td>0.0</td>\n",
       "      <td>0.0</td>\n",
       "      <td>0.0</td>\n",
       "      <td>1.0</td>\n",
       "      <td>0.0</td>\n",
       "      <td>0.0</td>\n",
       "      <td>0.0</td>\n",
       "      <td>0.0</td>\n",
       "    </tr>\n",
       "    <tr>\n",
       "      <th>1</th>\n",
       "      <td>0.0</td>\n",
       "      <td>0.0</td>\n",
       "      <td>0.0</td>\n",
       "      <td>0.0</td>\n",
       "      <td>0.0</td>\n",
       "      <td>0.0</td>\n",
       "      <td>0.0</td>\n",
       "      <td>0.0</td>\n",
       "      <td>0.0</td>\n",
       "      <td>0.0</td>\n",
       "      <td>...</td>\n",
       "      <td>1.0</td>\n",
       "      <td>0.0</td>\n",
       "      <td>0.0</td>\n",
       "      <td>0.0</td>\n",
       "      <td>0.0</td>\n",
       "      <td>0.0</td>\n",
       "      <td>0.0</td>\n",
       "      <td>0.0</td>\n",
       "      <td>0.0</td>\n",
       "      <td>0.0</td>\n",
       "    </tr>\n",
       "    <tr>\n",
       "      <th>2</th>\n",
       "      <td>0.0</td>\n",
       "      <td>1.0</td>\n",
       "      <td>0.0</td>\n",
       "      <td>0.0</td>\n",
       "      <td>0.0</td>\n",
       "      <td>0.0</td>\n",
       "      <td>0.0</td>\n",
       "      <td>0.0</td>\n",
       "      <td>0.0</td>\n",
       "      <td>1.0</td>\n",
       "      <td>...</td>\n",
       "      <td>0.0</td>\n",
       "      <td>0.0</td>\n",
       "      <td>0.0</td>\n",
       "      <td>1.0</td>\n",
       "      <td>0.0</td>\n",
       "      <td>0.0</td>\n",
       "      <td>0.0</td>\n",
       "      <td>0.0</td>\n",
       "      <td>0.0</td>\n",
       "      <td>0.0</td>\n",
       "    </tr>\n",
       "    <tr>\n",
       "      <th>3</th>\n",
       "      <td>0.0</td>\n",
       "      <td>0.0</td>\n",
       "      <td>0.0</td>\n",
       "      <td>0.0</td>\n",
       "      <td>0.0</td>\n",
       "      <td>0.0</td>\n",
       "      <td>0.0</td>\n",
       "      <td>0.0</td>\n",
       "      <td>0.0</td>\n",
       "      <td>0.0</td>\n",
       "      <td>...</td>\n",
       "      <td>1.0</td>\n",
       "      <td>0.0</td>\n",
       "      <td>0.0</td>\n",
       "      <td>0.0</td>\n",
       "      <td>0.0</td>\n",
       "      <td>0.0</td>\n",
       "      <td>0.0</td>\n",
       "      <td>0.0</td>\n",
       "      <td>0.0</td>\n",
       "      <td>0.0</td>\n",
       "    </tr>\n",
       "    <tr>\n",
       "      <th>4</th>\n",
       "      <td>0.0</td>\n",
       "      <td>0.0</td>\n",
       "      <td>0.0</td>\n",
       "      <td>0.0</td>\n",
       "      <td>0.0</td>\n",
       "      <td>0.0</td>\n",
       "      <td>0.0</td>\n",
       "      <td>0.0</td>\n",
       "      <td>0.0</td>\n",
       "      <td>0.0</td>\n",
       "      <td>...</td>\n",
       "      <td>1.0</td>\n",
       "      <td>0.0</td>\n",
       "      <td>0.0</td>\n",
       "      <td>0.0</td>\n",
       "      <td>0.0</td>\n",
       "      <td>0.0</td>\n",
       "      <td>0.0</td>\n",
       "      <td>0.0</td>\n",
       "      <td>0.0</td>\n",
       "      <td>0.0</td>\n",
       "    </tr>\n",
       "    <tr>\n",
       "      <th>...</th>\n",
       "      <td>...</td>\n",
       "      <td>...</td>\n",
       "      <td>...</td>\n",
       "      <td>...</td>\n",
       "      <td>...</td>\n",
       "      <td>...</td>\n",
       "      <td>...</td>\n",
       "      <td>...</td>\n",
       "      <td>...</td>\n",
       "      <td>...</td>\n",
       "      <td>...</td>\n",
       "      <td>...</td>\n",
       "      <td>...</td>\n",
       "      <td>...</td>\n",
       "      <td>...</td>\n",
       "      <td>...</td>\n",
       "      <td>...</td>\n",
       "      <td>...</td>\n",
       "      <td>...</td>\n",
       "      <td>...</td>\n",
       "      <td>...</td>\n",
       "    </tr>\n",
       "    <tr>\n",
       "      <th>289</th>\n",
       "      <td>0.0</td>\n",
       "      <td>1.0</td>\n",
       "      <td>0.0</td>\n",
       "      <td>0.0</td>\n",
       "      <td>0.0</td>\n",
       "      <td>0.0</td>\n",
       "      <td>0.0</td>\n",
       "      <td>0.0</td>\n",
       "      <td>0.0</td>\n",
       "      <td>1.0</td>\n",
       "      <td>...</td>\n",
       "      <td>0.0</td>\n",
       "      <td>0.0</td>\n",
       "      <td>0.0</td>\n",
       "      <td>1.0</td>\n",
       "      <td>0.0</td>\n",
       "      <td>0.0</td>\n",
       "      <td>0.0</td>\n",
       "      <td>0.0</td>\n",
       "      <td>0.0</td>\n",
       "      <td>0.0</td>\n",
       "    </tr>\n",
       "    <tr>\n",
       "      <th>290</th>\n",
       "      <td>1.0</td>\n",
       "      <td>0.0</td>\n",
       "      <td>0.0</td>\n",
       "      <td>0.0</td>\n",
       "      <td>0.0</td>\n",
       "      <td>0.0</td>\n",
       "      <td>0.0</td>\n",
       "      <td>0.0</td>\n",
       "      <td>0.0</td>\n",
       "      <td>1.0</td>\n",
       "      <td>...</td>\n",
       "      <td>0.0</td>\n",
       "      <td>0.0</td>\n",
       "      <td>0.0</td>\n",
       "      <td>0.0</td>\n",
       "      <td>0.0</td>\n",
       "      <td>0.0</td>\n",
       "      <td>0.0</td>\n",
       "      <td>0.0</td>\n",
       "      <td>0.0</td>\n",
       "      <td>1.0</td>\n",
       "    </tr>\n",
       "    <tr>\n",
       "      <th>291</th>\n",
       "      <td>0.0</td>\n",
       "      <td>0.0</td>\n",
       "      <td>0.0</td>\n",
       "      <td>0.0</td>\n",
       "      <td>0.0</td>\n",
       "      <td>0.0</td>\n",
       "      <td>0.0</td>\n",
       "      <td>0.0</td>\n",
       "      <td>0.0</td>\n",
       "      <td>0.0</td>\n",
       "      <td>...</td>\n",
       "      <td>0.0</td>\n",
       "      <td>0.0</td>\n",
       "      <td>0.0</td>\n",
       "      <td>0.0</td>\n",
       "      <td>1.0</td>\n",
       "      <td>0.0</td>\n",
       "      <td>0.0</td>\n",
       "      <td>0.0</td>\n",
       "      <td>0.0</td>\n",
       "      <td>0.0</td>\n",
       "    </tr>\n",
       "    <tr>\n",
       "      <th>292</th>\n",
       "      <td>0.0</td>\n",
       "      <td>1.0</td>\n",
       "      <td>0.0</td>\n",
       "      <td>0.0</td>\n",
       "      <td>0.0</td>\n",
       "      <td>0.0</td>\n",
       "      <td>0.0</td>\n",
       "      <td>0.0</td>\n",
       "      <td>0.0</td>\n",
       "      <td>0.0</td>\n",
       "      <td>...</td>\n",
       "      <td>0.0</td>\n",
       "      <td>0.0</td>\n",
       "      <td>0.0</td>\n",
       "      <td>1.0</td>\n",
       "      <td>0.0</td>\n",
       "      <td>0.0</td>\n",
       "      <td>0.0</td>\n",
       "      <td>0.0</td>\n",
       "      <td>0.0</td>\n",
       "      <td>0.0</td>\n",
       "    </tr>\n",
       "    <tr>\n",
       "      <th>293</th>\n",
       "      <td>0.0</td>\n",
       "      <td>1.0</td>\n",
       "      <td>0.0</td>\n",
       "      <td>0.0</td>\n",
       "      <td>0.0</td>\n",
       "      <td>0.0</td>\n",
       "      <td>0.0</td>\n",
       "      <td>0.0</td>\n",
       "      <td>0.0</td>\n",
       "      <td>0.0</td>\n",
       "      <td>...</td>\n",
       "      <td>0.0</td>\n",
       "      <td>0.0</td>\n",
       "      <td>0.0</td>\n",
       "      <td>0.0</td>\n",
       "      <td>1.0</td>\n",
       "      <td>0.0</td>\n",
       "      <td>0.0</td>\n",
       "      <td>0.0</td>\n",
       "      <td>0.0</td>\n",
       "      <td>0.0</td>\n",
       "    </tr>\n",
       "  </tbody>\n",
       "</table>\n",
       "<p>294 rows × 55 columns</p>\n",
       "</div>"
      ],
      "text/plain": [
       "     AGE_ABOVE65  GENDER  DISEASE GROUPING 1  DISEASE GROUPING 2  \\\n",
       "0            1.0     0.0                 0.0                 0.0   \n",
       "1            0.0     0.0                 0.0                 0.0   \n",
       "2            0.0     1.0                 0.0                 0.0   \n",
       "3            0.0     0.0                 0.0                 0.0   \n",
       "4            0.0     0.0                 0.0                 0.0   \n",
       "..           ...     ...                 ...                 ...   \n",
       "289          0.0     1.0                 0.0                 0.0   \n",
       "290          1.0     0.0                 0.0                 0.0   \n",
       "291          0.0     0.0                 0.0                 0.0   \n",
       "292          0.0     1.0                 0.0                 0.0   \n",
       "293          0.0     1.0                 0.0                 0.0   \n",
       "\n",
       "     DISEASE GROUPING 3  DISEASE GROUPING 4  DISEASE GROUPING 5  \\\n",
       "0                   0.0                 0.0                 1.0   \n",
       "1                   0.0                 0.0                 0.0   \n",
       "2                   0.0                 0.0                 0.0   \n",
       "3                   0.0                 0.0                 0.0   \n",
       "4                   0.0                 0.0                 0.0   \n",
       "..                  ...                 ...                 ...   \n",
       "289                 0.0                 0.0                 0.0   \n",
       "290                 0.0                 0.0                 0.0   \n",
       "291                 0.0                 0.0                 0.0   \n",
       "292                 0.0                 0.0                 0.0   \n",
       "293                 0.0                 0.0                 0.0   \n",
       "\n",
       "     DISEASE GROUPING 6  HTN  IMMUNOCOMPROMISED  ...  AGE_PERCENTIL_10th  \\\n",
       "0                   1.0  0.0                0.0  ...                 0.0   \n",
       "1                   0.0  0.0                0.0  ...                 1.0   \n",
       "2                   0.0  0.0                1.0  ...                 0.0   \n",
       "3                   0.0  0.0                0.0  ...                 1.0   \n",
       "4                   0.0  0.0                0.0  ...                 1.0   \n",
       "..                  ...  ...                ...  ...                 ...   \n",
       "289                 0.0  0.0                1.0  ...                 0.0   \n",
       "290                 0.0  0.0                1.0  ...                 0.0   \n",
       "291                 0.0  0.0                0.0  ...                 0.0   \n",
       "292                 0.0  0.0                0.0  ...                 0.0   \n",
       "293                 0.0  0.0                0.0  ...                 0.0   \n",
       "\n",
       "     AGE_PERCENTIL_20th  AGE_PERCENTIL_30th  AGE_PERCENTIL_40th  \\\n",
       "0                   0.0                 0.0                 0.0   \n",
       "1                   0.0                 0.0                 0.0   \n",
       "2                   0.0                 0.0                 1.0   \n",
       "3                   0.0                 0.0                 0.0   \n",
       "4                   0.0                 0.0                 0.0   \n",
       "..                  ...                 ...                 ...   \n",
       "289                 0.0                 0.0                 1.0   \n",
       "290                 0.0                 0.0                 0.0   \n",
       "291                 0.0                 0.0                 0.0   \n",
       "292                 0.0                 0.0                 1.0   \n",
       "293                 0.0                 0.0                 0.0   \n",
       "\n",
       "     AGE_PERCENTIL_50th  AGE_PERCENTIL_60th  AGE_PERCENTIL_70th  \\\n",
       "0                   0.0                 1.0                 0.0   \n",
       "1                   0.0                 0.0                 0.0   \n",
       "2                   0.0                 0.0                 0.0   \n",
       "3                   0.0                 0.0                 0.0   \n",
       "4                   0.0                 0.0                 0.0   \n",
       "..                  ...                 ...                 ...   \n",
       "289                 0.0                 0.0                 0.0   \n",
       "290                 0.0                 0.0                 0.0   \n",
       "291                 1.0                 0.0                 0.0   \n",
       "292                 0.0                 0.0                 0.0   \n",
       "293                 1.0                 0.0                 0.0   \n",
       "\n",
       "     AGE_PERCENTIL_80th  AGE_PERCENTIL_90th  AGE_PERCENTIL_Above 90th  \n",
       "0                   0.0                 0.0                       0.0  \n",
       "1                   0.0                 0.0                       0.0  \n",
       "2                   0.0                 0.0                       0.0  \n",
       "3                   0.0                 0.0                       0.0  \n",
       "4                   0.0                 0.0                       0.0  \n",
       "..                  ...                 ...                       ...  \n",
       "289                 0.0                 0.0                       0.0  \n",
       "290                 0.0                 0.0                       1.0  \n",
       "291                 0.0                 0.0                       0.0  \n",
       "292                 0.0                 0.0                       0.0  \n",
       "293                 0.0                 0.0                       0.0  \n",
       "\n",
       "[294 rows x 55 columns]"
      ]
     },
     "execution_count": 42,
     "metadata": {},
     "output_type": "execute_result"
    }
   ],
   "source": [
    "dados_limpos"
   ]
  },
  {
   "cell_type": "markdown",
   "metadata": {},
   "source": [
    "Restaram **54 features**, já que uma das colunas é minha variável alvo, 'ICU'."
   ]
  },
  {
   "cell_type": "code",
   "execution_count": 19,
   "metadata": {},
   "outputs": [],
   "source": [
    "#Salvando os dados limpos em um arquivo csv na pasta de dados do projeto\n",
    "dados_limpos.to_csv('/Users/camil/Jupyter Projects/dados/dados_modelos.csv', index= False)"
   ]
  },
  {
   "cell_type": "markdown",
   "metadata": {
    "id": "Tdv5J3LJfu_I"
   },
   "source": [
    "## **4. Implementação do modelo e validação**"
   ]
  },
  {
   "cell_type": "markdown",
   "metadata": {
    "id": "fEgiPH7UsSJC"
   },
   "source": [
    "Em um [notebook](https://github.com/camilasp/Projeto_Sirio_Libanes/blob/master/Modelos.ipynb) separado, testei alguns modelos e utilizei algumas métricas de avaliação para validá-los e assim escolher o melhor modelo dentre os testados.\n",
    "\n",
    "O modelo escolhido foi o Random **Forest Classifier**, com os seguintes parâmetros configurados:\n",
    "\n",
    "* n_estimators= 500: o número de árvores no modelo\n",
    "\n",
    "* random_state=55596 : esse parâmetro faz com que eu diminua a aleatoriedade do meu modelo nos testes, vai trazer sempre o mesmo resultado, caso não sejam feitas alterações nos parâmetros ou nos dados.\n",
    "\n",
    "* min_samples_leaf=10 : indica o número mínimo de folhas que devem existir em uma dada árvore;\n",
    "\n",
    "* class_weight = 'balanced': determina o peso das classes\n"
   ]
  },
  {
   "cell_type": "markdown",
   "metadata": {},
   "source": [
    "Esse modelo foi testado com a base de dados 'dados_limpos', que sofreu as modificações mostradas nesse notebook, mas também foi testado com a versão dados_finais, que é uma versão onde foram descartadas as features de menor importância pro modelo random forest, conforme explicado no [notebook](https://github.com/camilasp/Projeto_Sirio_Libanes/blob/master/Modelos.ipynb) onde foram testados os modelos.\n",
    "\n",
    "O modelo random forest classifier com os dados_finais obteve melhores resultados pós validação e por isso foi o modelo selecionado por mim e será o modelo final apresentado aqui."
   ]
  },
  {
   "cell_type": "markdown",
   "metadata": {},
   "source": [
    "importando a base dados_finais, que contém as features mais importantes para o modelo:"
   ]
  },
  {
   "cell_type": "code",
   "execution_count": 4,
   "metadata": {},
   "outputs": [],
   "source": [
    "dados_finais= pd.read_csv(\"/Users/camil/Jupyter Projects/dados/dados_finais.csv\")"
   ]
  },
  {
   "cell_type": "markdown",
   "metadata": {},
   "source": [
    "Para implementar o modelo, é necessário dividir meus dados entre treino e teste:"
   ]
  },
  {
   "cell_type": "code",
   "execution_count": 62,
   "metadata": {
    "id": "g_1CuuUtAMVO"
   },
   "outputs": [],
   "source": [
    "colunas = dados_finais.columns\n",
    "y = dados_finais[\"ICU\"]\n",
    "X = dados_finais[colunas].drop([\"ICU\"], axis=1)\n",
    "X_train, X_test, y_train, y_test = train_test_split(X, y, stratify=y, random_state= 55596 )"
   ]
  },
  {
   "cell_type": "code",
   "execution_count": 63,
   "metadata": {
    "id": "Yo5YzesG3_7e"
   },
   "outputs": [
    {
     "data": {
      "text/plain": [
       "RandomForestClassifier(class_weight='balanced', min_samples_leaf=10,\n",
       "                       n_estimators=250, random_state=55596)"
      ]
     },
     "execution_count": 63,
     "metadata": {},
     "output_type": "execute_result"
    }
   ],
   "source": [
    "modelo_random_forest= RandomForestClassifier(n_estimators= 250, random_state=55596, min_samples_leaf=10, class_weight = 'balanced') \n",
    "modelo_random_forest.fit(X,y)"
   ]
  },
  {
   "cell_type": "code",
   "execution_count": 64,
   "metadata": {
    "id": "t4iOAgK0OSE1"
   },
   "outputs": [],
   "source": [
    "predicao_modelo_randomf = modelo_random_forest.predict(X_test)"
   ]
  },
  {
   "cell_type": "markdown",
   "metadata": {},
   "source": [
    "O nosso problema é um problema de **classificação binário**. Num problema como esse, não temos apenas dois resultados possíveis, mas quatro. No caso em estudo, precisamos descobrir se o paciente vai para UTI (positivo para UTI ou 1) ou se o paciente não vai pra UTI (negativo para UTI ou 0)."
   ]
  },
  {
   "cell_type": "markdown",
   "metadata": {},
   "source": [
    "\n",
    "Dentre as classificações feitas pelo modelo, podemos encontrar quatro resultados diferentes:\n",
    "\n",
    "\n",
    "**Verdadeiro positivo (VP):** o modelo disse que o paciente vai para UTI(positivo) e, ao verificar a resposta, vê-se que ele realmente foi(verdadeiro);\n",
    "\n",
    "**Verdadeiro negativo (VN)** o modelo disse que o paciente não vai para UTI (negativo) e, ao verificar a resposta, vê-se que ele realmente não foi(verdadeiro);\n",
    "\n",
    "**Falso positivo (FP):** quando o modelo diz que o paciente vai precisar de UTI(positivo), mas  na verdade o paciente não precisou ir (falso);\n",
    "\n",
    "**Falso negativo (FN):** quando o modelo diz que o paciente não precisa de UTI, mas na verdade ele precisou (falso);"
   ]
  },
  {
   "cell_type": "markdown",
   "metadata": {},
   "source": [
    "**As métricas utilizadas para testar os modelos foram a acurácia, a precisão, o recall e também AUC e a curva ROC.** "
   ]
  },
  {
   "cell_type": "markdown",
   "metadata": {},
   "source": [
    " * Acurácia: É uma métrica bem geral, que indica quantas classificações foram feitas corretamente dentre todas as classificações  feitas pelo modelo\n",
    "  \n",
    "  * Precisão: Mostra quantas dentre as classificações feitas pelo modelo para a classe 1 (nesse caso, que indicaram a necessidade de UTI) estão corretas\n",
    "  \n",
    "  * Recall: Mostra quantas classificações para a classe 1 foram identificadas, ou seja, dos pacientes que precisavam mesmo ir para a UTI, quantos o modelo conseguiu identificar."
   ]
  },
  {
   "cell_type": "markdown",
   "metadata": {},
   "source": [
    "![alt text](metricas_e_formulas.png \"Métricas e fórmulas\")\n",
    "\n",
    "*fonte: imagem autoral*"
   ]
  },
  {
   "cell_type": "code",
   "execution_count": 65,
   "metadata": {},
   "outputs": [
    {
     "data": {
      "text/plain": [
       "0.8918918918918919"
      ]
     },
     "execution_count": 65,
     "metadata": {},
     "output_type": "execute_result"
    }
   ],
   "source": [
    "accuracy_score(y_test, predicao_modelo_randomf)"
   ]
  },
  {
   "cell_type": "code",
   "execution_count": 66,
   "metadata": {},
   "outputs": [
    {
     "data": {
      "text/plain": [
       "0.8"
      ]
     },
     "execution_count": 66,
     "metadata": {},
     "output_type": "execute_result"
    }
   ],
   "source": [
    "precision_score(y_test, predicao_modelo_randomf)"
   ]
  },
  {
   "cell_type": "code",
   "execution_count": 67,
   "metadata": {},
   "outputs": [
    {
     "data": {
      "text/plain": [
       "0.9230769230769231"
      ]
     },
     "execution_count": 67,
     "metadata": {},
     "output_type": "execute_result"
    }
   ],
   "source": [
    "recall_score(y_test, predicao_modelo_randomf)"
   ]
  },
  {
   "cell_type": "code",
   "execution_count": 68,
   "metadata": {},
   "outputs": [
    {
     "name": "stdout",
     "output_type": "stream",
     "text": [
      "              precision    recall  f1-score   support\n",
      "\n",
      "         0.0       0.95      0.88      0.91        48\n",
      "         1.0       0.80      0.92      0.86        26\n",
      "\n",
      "    accuracy                           0.89        74\n",
      "   macro avg       0.88      0.90      0.89        74\n",
      "weighted avg       0.90      0.89      0.89        74\n",
      "\n"
     ]
    }
   ],
   "source": [
    "print(classification_report(y_test, predicao_modelo_randomf))"
   ]
  },
  {
   "cell_type": "markdown",
   "metadata": {},
   "source": [
    "Todas as métricas deste modelo estão muito boas. A acurácia, nos mostra que cerca de 90% das classificações foram feitas corretamente.  A **taxa de recall** da classe positiva (UTI) ficou em **92%**, ou seja, o modelo parece ser **muito bom na identificação dos pacientes que precisarão de UTI**, que ao meu ver é a métrica mais importante para este problema, pois seria muito grave não identificar a necessidade de um paciente ir para UTI, já que tal erro poderia acarretar numa deterioração grave da condição do paciente."
   ]
  },
  {
   "cell_type": "markdown",
   "metadata": {},
   "source": [
    "A **matrix de confusão** abaixo mostra o desempenho de classificação do modelo dentro das 4 possíveis classes descritas acima: verdadeiro positivo, verdadeiro negativo, falso positivo e falso negativo."
   ]
  },
  {
   "cell_type": "code",
   "execution_count": 69,
   "metadata": {},
   "outputs": [
    {
     "data": {
      "image/png": "[encoded data removed]",
      "text/plain": [
       "<Figure size 576x576 with 2 Axes>"
      ]
     },
     "metadata": {
      "needs_background": "light"
     },
     "output_type": "display_data"
    }
   ],
   "source": [
    "plt.rcParams.update({'figure.figsize': (8.0, 8.0)})\n",
    "plot_confusion_matrix(modelo_random_forest, X_test, y_test, normalize='true', cmap =plt.cm.gist_yarg)\n",
    "plt.title('Confusion Matrix', pad = 40)\n",
    "plt.show()\n"
   ]
  },
  {
   "cell_type": "markdown",
   "metadata": {},
   "source": [
    "Vemos que o modelo classificou corretamente a maior parte dos pacientes, sendo **92% de verdadeiros positivos**, **88% de verdadeiros negativos**, **12% de falso positivo** e **7.7% de falsos negativo**.\n"
   ]
  },
  {
   "cell_type": "markdown",
   "metadata": {},
   "source": [
    "**Curva ROC-AUC**"
   ]
  },
  {
   "cell_type": "markdown",
   "metadata": {},
   "source": [
    "A **ROC curve** é uma métrica de avaliação de modelos de classificação binária, como o que está sendo implementado aqui. É uma curva de probabilidade que mostra a relação da taxa de verdadeiro positivo pela taxa de falso positivo em diferentes limiares. A área sob a curva (**AUC**) representa a habilidade do modelo de classificação de distinguir entre as classes."
   ]
  },
  {
   "cell_type": "markdown",
   "metadata": {},
   "source": [
    "![alt text](imagens/gráfico.png \"Cross-Validation K-Fold\")\n",
    "\n",
    "*fonte: imagem autoral*"
   ]
  },
  {
   "cell_type": "markdown",
   "metadata": {},
   "source": [
    "**Dessa forma, se AUC é igual a 1, o modelo consegue distinguir perfeitamente as duas classes.** "
   ]
  },
  {
   "cell_type": "code",
   "execution_count": 73,
   "metadata": {},
   "outputs": [],
   "source": [
    "fpr, tpr = roda_modelos(modelo_random_forest, dados_finais)"
   ]
  },
  {
   "cell_type": "code",
   "execution_count": 74,
   "metadata": {},
   "outputs": [],
   "source": [
    "prob_predict = modelo_random_forest.predict_proba(X_test)"
   ]
  },
  {
   "cell_type": "code",
   "execution_count": 75,
   "metadata": {},
   "outputs": [
    {
     "data": {
      "image/png": "[encoded data removed]",
      "text/plain": [
       "<Figure size 864x576 with 1 Axes>"
      ]
     },
     "metadata": {
      "needs_background": "light"
     },
     "output_type": "display_data"
    }
   ],
   "source": [
    "plt.figure(figsize=(12,8))\n",
    "plt.plot(fpr, tpr, color='purple', label = 'Random Forest Classifier')\n",
    "font_t = {'family': 'sans-serif',\n",
    "        'color': '#777D62',\n",
    "        'weight': 'bold'\n",
    "         }\n",
    "plt.title('ROC curve', pad= 20, fontdict=font_t, fontsize= 18)\n",
    "plt.xlabel('False Positive Rate', fontdict=font_t)\n",
    "plt.ylabel('True Positive Rate',  fontdict=font_t)\n",
    "plt.tick_params(labelcolor= '#777D62')\n",
    "plt.legend(loc='best') \n",
    "plt.show()\n",
    "    "
   ]
  },
  {
   "cell_type": "code",
   "execution_count": 78,
   "metadata": {},
   "outputs": [
    {
     "data": {
      "text/plain": [
       "0.7988782051282051"
      ]
     },
     "execution_count": 78,
     "metadata": {},
     "output_type": "execute_result"
    }
   ],
   "source": [
    "auc_score = roc_auc_score(y_test, prob_predict[:,1])\n",
    "auc_score"
   ]
  },
  {
   "cell_type": "markdown",
   "metadata": {},
   "source": [
    "A curva ROC e o AUC score mostram que o modelo tem uma boa capacidade para distinguir as classes. Há um threshold onde a taxa de verdadeiros positivos é superior a 70% enquanto a taxa de falso positivo fica menor do que 20% no mesmo ponto. o AUC score foi de quase 80%."
   ]
  },
  {
   "cell_type": "markdown",
   "metadata": {
    "id": "EX4ncweX-8sq"
   },
   "source": [
    "### **Validação**\n"
   ]
  },
  {
   "cell_type": "markdown",
   "metadata": {},
   "source": [
    "A validação serve para avaliar a capacidade de generalização de um modelo, a partir de um conjunto de dados. A validação deve ser feita com uma amostra dos dados que não foi utilizada na construção ou no ajuste do modelo, isso porque, com a validação, a intenção é ter uma estimativa da eficiência de um modelo no mundo real, ou seja, o seu desempenho em um novo conjunto de dados. Ela também serve para que se possa comparar dois ou mais modelos diferentes e obter uma ideia real de seus desempenhos.\n",
    "\n",
    "Para validar o modelo de machine learning proposto, será feita uma **cross-validation** (validação cruzada). Esse tipo de validação é melhor para os casos onde a quantidade de dados é pequena, como neste caso por exemplo, em que temos apenas os dados de 294 pacientes. Se fossemos separar uma outra parte dos dados para validação, seria necessário treinar o modelo com uma quantidade ainda menor de dados, o que prejudicaria o modelo.\n",
    "\n",
    "Na cross-validation, ainda sim é necessária a divisão entre dados de treino e dados de teste, mas não é necessária uma terceira partição dos dados, para validação. No método **k-fold CV**, os dados de treino são divididos em k grupos de dados menores . Para cada um desses k grupos é feito o seguinte:\n",
    "\n",
    "* O modelo é treinado usando k-1 dos grupos como dados de treino;\n",
    "\n",
    "* O modelo é validado utilizando o restante dos dados, ou seja, é testado para as métricas escolhidas.\n"
   ]
  },
  {
   "cell_type": "markdown",
   "metadata": {},
   "source": [
    "![alt text](imagens/k_fold.png \"Cross-Validation K-Fold\")\n",
    "\n",
    "*fonte: imagem extraída de scikit-learn*"
   ]
  },
  {
   "cell_type": "markdown",
   "metadata": {},
   "source": [
    "O tipo de cross-validation utilizado será o **stratified repeated k-fold**. Esse algoritmo faz o procedimento explicado acima n vezes, dividindo os dados de forma diferente em cada repetição, ou seja, em cada iteração o modelo é treinado e testado com um conjunto diferente de dados. Ele também divide os dados de forma a manter a proporção das classes (0 e 1).\n",
    "\n",
    "A performance do modelo será a média dos valores computados em cada uma das divisões. **As métricas utilizadas serão a AUC e o Recall**.\n"
   ]
  },
  {
   "cell_type": "code",
   "execution_count": 71,
   "metadata": {
    "id": "DUcrBvn13WHG"
   },
   "outputs": [],
   "source": [
    "def modelo_cv(modelo, dados, n_splits, n_repeats):\n",
    "\n",
    "    np.random.seed(55596)\n",
    "    dados = dados.sample(frac=1).reset_index(drop=True)\n",
    "    colunas = dados.columns\n",
    "    y = dados[\"ICU\"]\n",
    "    X = dados[colunas].drop([\"ICU\"], axis=1)\n",
    "     \n",
    "       \n",
    "    cv = RepeatedStratifiedKFold(n_splits = n_splits, n_repeats=n_repeats, )\n",
    "    resultados_auc=cross_validate(modelo, X, y, cv=cv, scoring='roc_auc', return_train_score=True)\n",
    "    resultados_recall=cross_validate(modelo, X, y, cv=cv, scoring='recall') \n",
    "    \n",
    "    \n",
    "    auc_medio = np.mean(resultados_auc['test_score'])\n",
    "    auc_std = np.std(resultados_auc['test_score'])\n",
    "    recall_medio = np.mean(resultados_recall['test_score'])\n",
    "    recall_std = np.std(resultados_recall['test_score'])\n",
    "    \n",
    "    print(f\"Recall {recall_medio}\")  \n",
    "    print(f\"Intervalo Recall {recall_medio - 2* auc_std} - {recall_medio + 2* auc_std}\")\n",
    "    print(f\"AUC {auc_medio}\")\n",
    "    print(f\"Intervalo AUC {auc_medio - 2* auc_std} - {auc_medio + 2* auc_std}\")\n",
    "       "
   ]
  },
  {
   "cell_type": "code",
   "execution_count": 72,
   "metadata": {},
   "outputs": [
    {
     "name": "stdout",
     "output_type": "stream",
     "text": [
      "Recall 0.6552380952380952\n",
      "Intervalo Recall 0.5596476534076577 - 0.7508285370685327\n",
      "AUC 0.7797764681975208\n",
      "Intervalo AUC 0.6841860263670833 - 0.8753669100279583\n"
     ]
    }
   ],
   "source": [
    "modelo_cv(modelo_random_forest, dados_finais, 5, 10)"
   ]
  },
  {
   "cell_type": "markdown",
   "metadata": {},
   "source": [
    "O modelo final validado obteve uma taxa de Recall um pouco pior do que eu esperava, uma média de 65,52%, ainda assim, superior a dos demais modelos testados. Já o AUC médio ficou em 77,98%. \n"
   ]
  },
  {
   "cell_type": "markdown",
   "metadata": {
    "id": "K1PwH5j3hQeZ"
   },
   "source": [
    "## **5. Resultados e conclusão**"
   ]
  },
  {
   "cell_type": "markdown",
   "metadata": {
    "id": "Yqf3rdvihh7c"
   },
   "source": [
    "O modelo construído mostrou uma boa performance de classificação, com um **AUC médio de 77,98**, ou seja, sua **capacidade de distinguir entre as classes é muito boa**. A **sensibilidade** do modelo (Recall) ficou com uma **média de 65,52%** na validação, apesar dos resultados apresentados na construção do modelo terem sido bastante superiores. \n",
    "\n",
    "Comparado a um modelo aleatório como o dummyclassifier, que teve 0% de recall e 50% de AUC, seu desempenho é muito superior.  \n",
    "\n",
    "\n",
    "Entretanto, um recall de 65,52%, na minha opinião, não parece ser suficiente para que este modelo possa ser utilizado para classificação de pacientes, visto que num caso como este,  é muito importante que o modelo acerte quando o paciente precisará de UTI. Considerando que  a saúde e vida das pessoas  estão envolvidas neste problema, creio que o ideal seria um modelo com uma taxa de recall média de no mínimo 90%.  Acredito que se a seleção dos parâmetros tivesse sido feita de forma mais eficiente, através da realização de um número maior de testes ou pela utilização de algoritmos de seleçãod e parâmetros como o GridSEarch e também através do teste  de outros algoritmos de classificação, um modelo melhor poderia ter sido construído. \n",
    "\n",
    "\n",
    "Para uma situação tão séria, imagino que o Hospital queira usar esse modelo de classificação apenas de forma coadjuvante a outras formas de avaliação, sendo a avaliação médica a mais importante. Além disso, acho importante que seja feita uma avaliação dos dados gerais da pandemia ao longo do tempo, quem sabe até mesmo com a implementação de um modelo com uso de séries temporais utilizando-se do número total de novos casos e número de internações ao longo do tempo na região atendida pelo hospital. Dessa forma, seria possível prever o crescimento da demanda de leitos com base nas taxas de transmissão da doença. \n",
    "\n",
    "\n",
    "\n"
   ]
  },
  {
   "cell_type": "markdown",
   "metadata": {
    "id": "peSWDbGMhZxq"
   },
   "source": [
    "## **6. Referências**"
   ]
  },
  {
   "cell_type": "markdown",
   "metadata": {
    "id": "_6Km--XPhfrG"
   },
   "source": [
    "[1](https://www.who.int/health-topics/coronavirus#tab=tab_1) World Health Organization - Coronavirus\n",
    "\n",
    "[2](https://www.cdc.gov/coronavirus/2019-ncov/covid-data/investigations-discovery/hospitalization-death-by-age.html) Risk for COVID-19 Infection, Hospitalization, and Death By Age Group\n",
    "\n",
    "\n",
    "[3](https://www.nature.com/articles/s41598-021-83853-2) COVID-19: a simple statistical model for predicting intensive care unit load in exponential phases of the disease\n",
    "\n",
    "[4](https://www.cdc.gov/media/releases/2021/p0607-mrna-reduce-risks.html) Study Shows mRNA Vaccines Reduce Risk of Infection by 91 Percent for Fully Vaccinated People\n",
    "\n",
    "[5](https://www.ncbi.nlm.nih.gov/pmc/articles/PMC8118153/)Modeling of Future COVID-19 Cases, Hospitalizations, and Deaths, by Vaccination Rates and Nonpharmaceutical Intervention Scenarios — United States, April–September 2021\n",
    "\n",
    "[6](https://portal.fiocruz.br/en/news/astrazeneca-vaccine-92-effective-against-hospitalizations-due-delta-variant) AstraZeneca vaccine is 92% effective against hospitalizations due to Delta variant\n",
    "[7](https://www.nejm.org/doi/full/10.1056/NEJMoa2108891) Effectiveness of Covid-19 Vaccines against the B.1.617.2 (Delta) Variant\n",
    "\n",
    "\n",
    "[8](https://www.cnnbrasil.com.br/saude/2021/06/27/internacoes-por-covid-19-em-sao-paulo-caem-8-7-em-uma-semana) Internações por covid-19 em São Paulo caem 8.7% em uma semana\n",
    "\n",
    "[9](https://chrisalbon.com/code/machine_learning/trees_and_forests/feature_selection_using_random_forest/) Feature Selection Using Random Forest\n",
    "\n",
    "[10](https://stackabuse.com/applying-filter-methods-in-python-for-feature-selection) Applying Filter Methods in Python for Feature Selection\n",
    "\n",
    "[11](https://medium.com/all-things-ai/in-depth-parameter-tuning-for-svc-758215394769) In depth parameter tuning for SVC\n",
    "\n",
    "[12](https://developers.google.com/machine-learning/crash-course/classification/roc-and-auc) ROC and AUC\n",
    "\n",
    "[13](https://scikit-learn.org/stable/) Scikit-learn: Machine Learning in Python"
   ]
  }
 ],
 "metadata": {
  "colab": {
   "collapsed_sections": [],
   "name": "Machine_learning_na_avaliacao_pacientes_com_COVID_19.ipynb",
   "provenance": []
  },
  "kernelspec": {
   "display_name": "Python 3",
   "language": "python",
   "name": "python3"
  },
  "language_info": {
   "codemirror_mode": {
    "name": "ipython",
    "version": 3
   },
   "file_extension": ".py",
   "mimetype": "text/x-python",
   "name": "python",
   "nbconvert_exporter": "python",
   "pygments_lexer": "ipython3",
   "version": "3.7.3"
  }
 },
 "nbformat": 4,
 "nbformat_minor": 4
}
