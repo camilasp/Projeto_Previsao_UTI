{
 "cells": [
  {
   "cell_type": "markdown",
   "id": "24373f95-0775-4ea8-8a97-a3687cf018b6",
   "metadata": {},
   "source": [
    "# **Avaliação de modelos de machine learning**"
   ]
  },
  {
   "cell_type": "markdown",
   "id": "5e6f6b0a-9c8b-42f0-84af-e6dc5e7ca682",
   "metadata": {},
   "source": [
    "Neste notebook foram avaliados dois algoritmos de classificação diferentes para resolver o problema apresentado no [notebook](https://github.com/camilasp/Projeto_Previsao_UTI/blob/master/notebooks/Machine_learning_na_avaliacao_pacientes_com_COVID_19.ipynb) principal."
   ]
  },
  {
   "cell_type": "markdown",
   "id": "4407c89f-1d53-4daa-bbd6-5d645a75eb9b",
   "metadata": {},
   "source": [
    "Os modelos de classificação implementados e avaliados foram o **Random Forest Classifier** e o **SVC** (C-Support Vector Classification). Foram realizados  testes com diferentes parâmetros, selecionando os que fizeram com que o modelo tivesse as melhores métricas.\n",
    "\n",
    "Além disso, o DummyClassifier foi utilizado a título de comparação.\n",
    "\n"
   ]
  },
  {
   "cell_type": "markdown",
   "id": "c41209dd-a8ac-4184-bbf9-90c681e7510f",
   "metadata": {},
   "source": [
    "As métricas utilizadas para a avaliação foram a *acurácia*, *precisão*, *recall* e  a *curva roc_auc*. Mais detalhes sobre estas métricas no notebook principal.\n"
   ]
  },
  {
   "cell_type": "markdown",
   "id": "fe9aa3de-5e0c-43cb-8d97-8b22e642d9e0",
   "metadata": {},
   "source": [
    "### **1. Importando as bibliotecas necessárias:**"
   ]
  },
  {
   "cell_type": "code",
   "execution_count": 2,
   "id": "f3a30a37-5c77-4e55-8a3f-1c5dc62fd875",
   "metadata": {
    "id": "xWbnG22R0ltx"
   },
   "outputs": [],
   "source": [
    "import pandas as pd\n",
    "import numpy as np\n",
    "import seaborn as sns\n",
    "import matplotlib.pyplot as plt\n",
    "from matplotlib import cm\n",
    "from sklearn.ensemble import RandomForestClassifier\n",
    "from sklearn import svm\n",
    "from sklearn.svm import SVC\n",
    "from sklearn.metrics import accuracy_score, recall_score, roc_auc_score, precision_score\n",
    "from sklearn.metrics import plot_confusion_matrix\n",
    "from sklearn.metrics import classification_report\n",
    "from sklearn.metrics import roc_curve\n",
    "from sklearn.dummy import DummyClassifier\n",
    "from sklearn.model_selection import train_test_split\n",
    "from funcoes import plota_roc_curve, roda_modelos\n"
   ]
  },
  {
   "cell_type": "markdown",
   "id": "9c7d013e-7fc1-48a3-b335-5a16cafd81fd",
   "metadata": {},
   "source": [
    "### **2. Importando os dados:**"
   ]
  },
  {
   "cell_type": "code",
   "execution_count": 7,
   "id": "8b7f9fda-edd5-4165-acdd-494759a64e64",
   "metadata": {
    "id": "5e9QyMyxHB77"
   },
   "outputs": [],
   "source": [
    "dados_limpos = pd.read_csv('C:/Users/camil/Jupyter Projects/Projeto_Sirio/dados/dados_modelos.csv')"
   ]
  },
  {
   "cell_type": "markdown",
   "id": "6370af77-a068-441d-bd51-fb126fbe4f44",
   "metadata": {},
   "source": [
    "### **3. Divisão dos dados entre treino e teste**"
   ]
  },
  {
   "cell_type": "code",
   "execution_count": 8,
   "id": "84e32622-0415-4a65-84ed-8078ef70e5b0",
   "metadata": {
    "id": "g_1CuuUtAMVO"
   },
   "outputs": [],
   "source": [
    "colunas = dados_limpos.columns\n",
    "y = dados_limpos[\"ICU\"]\n",
    "X = dados_limpos[colunas].drop([\"ICU\"], axis=1)\n",
    "X_train, X_test, y_train, y_test = train_test_split(X, y, stratify=y, random_state= 55596 )"
   ]
  },
  {
   "cell_type": "markdown",
   "id": "c0710c5a-9211-48f8-837c-3b4ba61bd73b",
   "metadata": {},
   "source": [
    "Agora vou implementar os modelos, testando alguns parâmetros e analisando a princípio a acurácia, precisão e o recall, para ter uma ideia do desempenho."
   ]
  },
  {
   "cell_type": "markdown",
   "id": "460f956d-1241-4242-8fae-0ce92607b39e",
   "metadata": {},
   "source": [
    "### **4. Modelos**"
   ]
  },
  {
   "cell_type": "markdown",
   "id": "7ae1a82d-501a-4478-9911-ac81b6a187b9",
   "metadata": {},
   "source": [
    "Testei o Random Forest Classifier e o SVC. O dummy classifier foi implementado para servir como parâmetro de comparação da qualidade dos meus modelos.\n",
    "\n",
    "Para selecionar os parâmetros a serem testados foi feita a leitura da descrição dos parâmtros na documentação do [scikit-learn](https://scikit-learn.org), procurando entender quais deles tinham uma maior chance de alterar os resultados, levando em consideração as características dos dados analisados e do problema a ser resolvido.\n",
    "\n",
    "Mais testes não foram feitos por falta de tempo e por ter obtido resultados interessantes com os poucos testes feitos. Entretanto, acredito que com mais testes e usando o [GridSearch](https://scikit-learn.org/stable/modules/generated/sklearn.model_selection.GridSearchCV.html), modelos com desempenho ainda melhor poderiam ter sido obtidos."
   ]
  },
  {
   "cell_type": "markdown",
   "id": "cdeccf0f-9ec5-41ca-bef8-8a41bedff845",
   "metadata": {
    "id": "suYSXTjtuzoq"
   },
   "source": [
    "**4.1. Dummy Classifier**"
   ]
  },
  {
   "cell_type": "markdown",
   "id": "59a0c8c2-f22e-4c4b-b44a-f963c935533a",
   "metadata": {},
   "source": [
    "O DummyClassifier é um classificador que usa regras simples e deve ser usado apenas como comparativo com modelos classificadores mais eficientes."
   ]
  },
  {
   "cell_type": "code",
   "execution_count": 9,
   "id": "290dd4e3-d3d4-43f9-bbd1-286841aed096",
   "metadata": {
    "id": "XQ2iZC7ou4In"
   },
   "outputs": [],
   "source": [
    "modelo_dummy = DummyClassifier(random_state=55596, strategy= 'most_frequent')\n",
    "modelo_dummy.fit(X_train, y_train)\n",
    "\n",
    "previsao_dummy = modelo_dummy.predict(X_test)\n"
   ]
  },
  {
   "cell_type": "markdown",
   "id": "bdd0c8e4-c8a2-4b01-8d56-1339450169a0",
   "metadata": {},
   "source": [
    "**Métricas:**"
   ]
  },
  {
   "cell_type": "code",
   "execution_count": 10,
   "id": "2811e82b-1601-4ffb-87d3-34d95750eca0",
   "metadata": {},
   "outputs": [
    {
     "data": {
      "text/plain": [
       "0.6486486486486487"
      ]
     },
     "execution_count": 10,
     "metadata": {},
     "output_type": "execute_result"
    }
   ],
   "source": [
    "accuracy_score(y_test, previsao_dummy)"
   ]
  },
  {
   "cell_type": "code",
   "execution_count": 11,
   "id": "66cad22d-5bf0-46fa-95b6-b1dfeed681da",
   "metadata": {},
   "outputs": [
    {
     "data": {
      "text/plain": [
       "1.0"
      ]
     },
     "execution_count": 11,
     "metadata": {},
     "output_type": "execute_result"
    }
   ],
   "source": [
    "precision_score(y_test, previsao_dummy, zero_division=1)"
   ]
  },
  {
   "cell_type": "code",
   "execution_count": 12,
   "id": "02403c8d-5587-4c31-9249-ee41fff27ab5",
   "metadata": {},
   "outputs": [
    {
     "data": {
      "text/plain": [
       "0.0"
      ]
     },
     "execution_count": 12,
     "metadata": {},
     "output_type": "execute_result"
    }
   ],
   "source": [
    "recall_score(y_test, previsao_dummy)"
   ]
  },
  {
   "cell_type": "code",
   "execution_count": 13,
   "id": "bb49eb80-0a63-44b0-91a5-56abc1306586",
   "metadata": {},
   "outputs": [
    {
     "data": {
      "image/png": "[encoded data removed]",
      "text/plain": [
       "<Figure size 432x288 with 2 Axes>"
      ]
     },
     "metadata": {
      "needs_background": "light"
     },
     "output_type": "display_data"
    }
   ],
   "source": [
    "plot_confusion_matrix(modelo_dummy, X_test, y_test, normalize='true', cmap =plt.cm.gist_yarg)\n",
    "plt.title('Confusion Matrix', pad = 40)\n",
    "plt.show()"
   ]
  },
  {
   "cell_type": "markdown",
   "id": "ae8300e1-0a26-4b25-96de-2e8f63842c5d",
   "metadata": {},
   "source": [
    "Como a estratégia escolhida foi a 'most frequent' o modelo_dummy vai classificar todos os pacientes da amostra teste como pertencentes a classe mais frequente, que é o 0 (não precisou de UTI). Na matrix de confusão percebemos que não há dados na predicted label 1 e que o modelo acertou em 100% das vezes a classificação dos pacientes que não foram para UTI (true label 0 x predicted label 0) e errou em 100% das vezes a classificação dos pacientes que precisavam de UTI( True label 1 X predicted label )."
   ]
  },
  {
   "cell_type": "markdown",
   "id": "2df2cc8c-ce19-4496-9f8d-eb17e008400e",
   "metadata": {},
   "source": [
    "**4.2. Random Forest Classifier**"
   ]
  },
  {
   "cell_type": "markdown",
   "id": "dab2314e-4903-4c45-bf03-4aa89824e8cf",
   "metadata": {},
   "source": [
    "O Random Forest é um algoritmo de aprendizagem supervisionada que cria uma floresta de um modo aleatório. A floresta  é formada por um conjunto de árvores de decisão e a previsão do modelo vai sair da combinação dos resultados individuais dessas árvores.\n",
    "\n",
    "Os parâmetros selecionados para os testes foram:\n",
    "\n",
    " * n_estimators{int, default=100}: o número de árvores no modelo. Em geral, uma quantidade elevada de árvores aumenta a performance e torna as predições mais estáveis. Entretanto, quanto maior a quantidade de árvores, mais lento o modelo fica, por isso, tomei cuidado para não usar valores muito altos;\n",
    " \n",
    " \n",
    " * criterion{“gini”, “entropy”}, default=”gini”: mede a qualidade das divisões na árvores(nós);\n",
    " \n",
    " * min_samples_leafint or float, default=1: indica o número mínimo de folhas que devem existir em uma dada árvore;\n",
    " \n",
    " * class_weight{“balanced”, “balanced_subsample”}, dict or list of dicts, default=None. Determina o peso das classes. Como no caso do dataset utilizado há desbalanço entre as classes da variável alvo, achei que seria um parâmetro importante para melhorar a performance do modelo."
   ]
  },
  {
   "cell_type": "markdown",
   "id": "b0062d44-525d-4374-a710-8291e5501c26",
   "metadata": {},
   "source": [
    "Fiz os testes e fui combinando os parâmetros que pareciam proporcionar os efeitos mais positivos, até obter o modelo que teve a melhor performance, que mostro a seguir:"
   ]
  },
  {
   "cell_type": "code",
   "execution_count": 14,
   "id": "87a72b2d-4c17-4231-81a7-99638c65a45c",
   "metadata": {
    "id": "Yo5YzesG3_7e"
   },
   "outputs": [
    {
     "data": {
      "text/plain": [
       "RandomForestClassifier(class_weight='balanced', min_samples_leaf=10,\n",
       "                       n_estimators=250, random_state=55596)"
      ]
     },
     "execution_count": 14,
     "metadata": {},
     "output_type": "execute_result"
    }
   ],
   "source": [
    "modelo_random_forest= RandomForestClassifier(n_estimators= 250, random_state=55596, min_samples_leaf=10, class_weight = 'balanced') \n",
    "modelo_random_forest.fit(X_train,y_train)"
   ]
  },
  {
   "cell_type": "code",
   "execution_count": 17,
   "id": "2f5a8694-0d85-4377-9139-65f1cf792aa2",
   "metadata": {
    "id": "t4iOAgK0OSE1"
   },
   "outputs": [],
   "source": [
    " predicao_modelo_randomf = modelo_random_forest.predict(X_test)"
   ]
  },
  {
   "cell_type": "markdown",
   "id": "fc4aeb13-7a14-463e-ad16-d2749fb90a5e",
   "metadata": {},
   "source": [
    "**Métricas:**"
   ]
  },
  {
   "cell_type": "code",
   "execution_count": 18,
   "id": "3d4a55c7-e7a4-4c5d-8372-abc9a5a866ec",
   "metadata": {},
   "outputs": [
    {
     "data": {
      "text/plain": [
       "0.7567567567567568"
      ]
     },
     "execution_count": 18,
     "metadata": {},
     "output_type": "execute_result"
    }
   ],
   "source": [
    "accuracy_score(y_test, predicao_modelo_randomf)"
   ]
  },
  {
   "cell_type": "code",
   "execution_count": 19,
   "id": "f2b1b17a-0c12-4971-b10c-c940caffc5f9",
   "metadata": {},
   "outputs": [
    {
     "data": {
      "text/plain": [
       "0.6818181818181818"
      ]
     },
     "execution_count": 19,
     "metadata": {},
     "output_type": "execute_result"
    }
   ],
   "source": [
    "precision_score(y_test, predicao_modelo_randomf)"
   ]
  },
  {
   "cell_type": "code",
   "execution_count": 20,
   "id": "5a3b75be-39c2-43e0-a01b-de4dc6d00cee",
   "metadata": {},
   "outputs": [
    {
     "data": {
      "text/plain": [
       "0.5769230769230769"
      ]
     },
     "execution_count": 20,
     "metadata": {},
     "output_type": "execute_result"
    }
   ],
   "source": [
    "recall_score(y_test, predicao_modelo_randomf)"
   ]
  },
  {
   "cell_type": "markdown",
   "id": "57db6b98-bc87-41bf-99c7-ca370c92d9bd",
   "metadata": {},
   "source": [
    "Este modelo não teve resultados muito bons.  O recall, que mostra que dentre os pacientes que precisaram de UTI, o modelo foi capaz de identificar corretamente 57%. \n",
    "\n",
    "Abaixo o report que mostra as métricas tanto para classe 1 (UTI) quanto para classe 0."
   ]
  },
  {
   "cell_type": "code",
   "execution_count": 21,
   "id": "1c678857-83ff-4b08-bc33-03e1e1371a2a",
   "metadata": {},
   "outputs": [
    {
     "name": "stdout",
     "output_type": "stream",
     "text": [
      "              precision    recall  f1-score   support\n",
      "\n",
      "         0.0       0.79      0.85      0.82        48\n",
      "         1.0       0.68      0.58      0.62        26\n",
      "\n",
      "    accuracy                           0.76        74\n",
      "   macro avg       0.74      0.72      0.72        74\n",
      "weighted avg       0.75      0.76      0.75        74\n",
      "\n"
     ]
    }
   ],
   "source": [
    "print(classification_report(y_test, predicao_modelo_randomf))"
   ]
  },
  {
   "cell_type": "code",
   "execution_count": null,
   "id": "4c36d1d6-01ec-4d2a-9335-5bff2803c69f",
   "metadata": {},
   "outputs": [],
   "source": [
    "plt.rcParams.update({'figure.figsize': (8.0, 8.0)})\n",
    "plt.rcParams.update({'font.size': 13})"
   ]
  },
  {
   "cell_type": "code",
   "execution_count": 23,
   "id": "3248013d-c8f1-45ab-b63c-04d1e36ecee2",
   "metadata": {},
   "outputs": [
    {
     "data": {
      "image/png": "[encoded data removed]",
      "text/plain": [
       "<Figure size 576x576 with 2 Axes>"
      ]
     },
     "metadata": {
      "needs_background": "light"
     },
     "output_type": "display_data"
    }
   ],
   "source": [
    "plot_confusion_matrix(modelo_random_forest, X_test, y_test, normalize='true', cmap =plt.cm.gist_yarg)\n",
    "plt.title('Confusion Matrix', pad = 40)\n",
    "plt.show()\n"
   ]
  },
  {
   "cell_type": "markdown",
   "id": "b3d7da87-0384-4d24-b9c1-0949dc90da86",
   "metadata": {},
   "source": [
    "A confusion matrix mostra a performance do modelo de acordo com os 4 possíveis resultados da classificação. Vemos que p modelo teve sucesso em classificar corretamente a grande maioria dos pacientes tanto na classe 1 (92%) quanto na classe 0 (88%)."
   ]
  },
  {
   "cell_type": "markdown",
   "id": "55109031-20e3-4dfc-8a63-5d4f8f8482e1",
   "metadata": {},
   "source": [
    "**4.3. SVC**"
   ]
  },
  {
   "cell_type": "markdown",
   "id": "7792e8ee-7f02-4601-8a6b-d66ef9d3d54c",
   "metadata": {},
   "source": [
    "Os parâmetros selecionados para testes foram:\n",
    "\n",
    "* class_weight{“balanced”, “balanced_subsample”}, dict or list of dicts, default=None. Determina o peso das classes. Como no caso do dataset utilizado há desbalanço entre as classes da variável alvo, achei que seria um parâmetro importante para melhorar a performance do modelo;\n",
    "\n",
    "* kernel{‘linear’, ‘poly’, ‘rbf’, ‘sigmoid’, ‘precomputed’}, default=’rbf’: seleciona o tipo de hiperplano utilizado para separar os dados;\n",
    "\n",
    "* gamma{‘scale’, ‘auto’} or float, default=’scale’: É um parâmetro para kernels não lineares. Quanto mais alto o valor de gamma, mais o algoritmo tentará se ajustar aos dados de treino.\n",
    "\n",
    "*probability*: não foi usado para os testes, porém posteriormente foi necessário adicioná-lo para permitir a avaliação do modelo."
   ]
  },
  {
   "cell_type": "code",
   "execution_count": 24,
   "id": "a6c7c447-320c-4348-9300-9dc6f5555d8a",
   "metadata": {
    "id": "UytppJcxsIkd"
   },
   "outputs": [
    {
     "data": {
      "text/plain": [
       "SVC(class_weight='balanced', gamma=0.1, kernel='poly', probability=True,\n",
       "    random_state=55596)"
      ]
     },
     "execution_count": 24,
     "metadata": {},
     "output_type": "execute_result"
    }
   ],
   "source": [
    "modelo_svc= svm.SVC(kernel='poly', random_state=55596, class_weight='balanced',probability=True, gamma=0.1) \n",
    "modelo_svc.fit(X_train, y_train)\n"
   ]
  },
  {
   "cell_type": "code",
   "execution_count": 25,
   "id": "82786a60-1768-4b50-b90c-8710f528ceb3",
   "metadata": {
    "id": "c-Iwjtqfte0R"
   },
   "outputs": [],
   "source": [
    "previsao_svc = modelo_svc.predict(X_test)"
   ]
  },
  {
   "cell_type": "markdown",
   "id": "0c81e5db-da02-4f51-a6a5-3ced426eb0db",
   "metadata": {},
   "source": [
    "**Métricas:**"
   ]
  },
  {
   "cell_type": "code",
   "execution_count": 26,
   "id": "4664f12c-497f-48e7-8935-7d830d907b11",
   "metadata": {
    "id": "cbFYeIMIsIsJ"
   },
   "outputs": [
    {
     "data": {
      "text/plain": [
       "0.6351351351351351"
      ]
     },
     "execution_count": 26,
     "metadata": {},
     "output_type": "execute_result"
    }
   ],
   "source": [
    "accuracy_score(y_test, previsao_svc)"
   ]
  },
  {
   "cell_type": "code",
   "execution_count": 27,
   "id": "fba80148-ffe6-495e-b261-fbcf6b0e7f6f",
   "metadata": {},
   "outputs": [
    {
     "data": {
      "text/plain": [
       "0.4827586206896552"
      ]
     },
     "execution_count": 27,
     "metadata": {},
     "output_type": "execute_result"
    }
   ],
   "source": [
    "precision_score(y_test, previsao_svc)"
   ]
  },
  {
   "cell_type": "code",
   "execution_count": 28,
   "id": "0a065803-97da-4bd9-9a1a-b2e0ff4cecdd",
   "metadata": {},
   "outputs": [
    {
     "data": {
      "text/plain": [
       "0.5384615384615384"
      ]
     },
     "execution_count": 28,
     "metadata": {},
     "output_type": "execute_result"
    }
   ],
   "source": [
    "recall_score(y_test, previsao_svc)"
   ]
  },
  {
   "cell_type": "code",
   "execution_count": 29,
   "id": "de72bc0f-cc12-4e3b-b83a-03ce0fd92798",
   "metadata": {},
   "outputs": [
    {
     "name": "stdout",
     "output_type": "stream",
     "text": [
      "              precision    recall  f1-score   support\n",
      "\n",
      "         0.0       0.73      0.69      0.71        48\n",
      "         1.0       0.48      0.54      0.51        26\n",
      "\n",
      "    accuracy                           0.64        74\n",
      "   macro avg       0.61      0.61      0.61        74\n",
      "weighted avg       0.65      0.64      0.64        74\n",
      "\n"
     ]
    }
   ],
   "source": [
    "print(classification_report(y_test, previsao_svc))"
   ]
  },
  {
   "cell_type": "markdown",
   "id": "34855631-f6f7-489c-9f20-a83197e007e2",
   "metadata": {},
   "source": [
    "Este modelo também não teve métricas tão boas, porém todas elas estão abaixo do modelo random forest. O recall da classe 1 por exemplo foi de 54%, enquanto que o random forest conseguiu 57%. A precisão foi de 48% para classe 1, enquanto o random forest conseguiu 68%."
   ]
  },
  {
   "cell_type": "code",
   "execution_count": 30,
   "id": "31d6d099-1e43-4126-869f-2c46cd543aeb",
   "metadata": {},
   "outputs": [
    {
     "data": {
      "image/png": "[encoded data removed]",
      "text/plain": [
       "<Figure size 576x576 with 2 Axes>"
      ]
     },
     "metadata": {
      "needs_background": "light"
     },
     "output_type": "display_data"
    }
   ],
   "source": [
    "plot_confusion_matrix(modelo_svc, X_test, y_test, normalize='true', cmap =plt.cm.gist_yarg)\n",
    "plt.title('Confusion Matrix', pad = 40)\n",
    "plt.show()"
   ]
  },
  {
   "cell_type": "markdown",
   "id": "9a682a42-8e15-4c9d-a9b3-de28fd46bd76",
   "metadata": {},
   "source": [
    "**Seleção das features mais importantes**"
   ]
  },
  {
   "cell_type": "markdown",
   "id": "6d1d5884-28c0-47bf-8f31-6a2a5eb5011e",
   "metadata": {},
   "source": [
    "Vou usar o meu modelo que teve os melhores resultados - o **Random Forest Classifier** - para verificar qual **a importância das features para este modelo** e escolher as features mais importantes para tentar melhorar seu desempenho ainda mais."
   ]
  },
  {
   "cell_type": "code",
   "execution_count": 31,
   "id": "f851ca9c-e171-4d2d-86e4-1cb274b60aa8",
   "metadata": {
    "id": "QFYkdjp8F-xv"
   },
   "outputs": [
    {
     "name": "stdout",
     "output_type": "stream",
     "text": [
      "('AGE_ABOVE65', 0.01883362024579424)\n",
      "('GENDER', 0.011435391463302498)\n",
      "('DISEASE GROUPING 1', 0.00018117288250052698)\n",
      "('DISEASE GROUPING 2', 0.0)\n",
      "('DISEASE GROUPING 3', 0.0)\n",
      "('DISEASE GROUPING 4', 0.0)\n",
      "('DISEASE GROUPING 5', 0.0)\n",
      "('DISEASE GROUPING 6', 0.0)\n",
      "('HTN', 0.003161559227682509)\n",
      "('IMMUNOCOMPROMISED', 0.0029267251908856188)\n",
      "('OTHER', 0.0007786963918356266)\n",
      "('ALBUMIN_MEDIAN', 0.0)\n",
      "('BE_VENOUS_MEDIAN', 0.0031631602138094137)\n",
      "('BIC_VENOUS_MEDIAN', 0.0036958570619354037)\n",
      "('CALCIUM_MEDIAN', 0.017921345893387754)\n",
      "('CREATININ_MEDIAN', 0.07106623002357347)\n",
      "('FFA_MEDIAN', 0.004534924320424512)\n",
      "('GGT_MEDIAN', 0.02939957163910511)\n",
      "('GLUCOSE_MEDIAN', 0.03660046164688627)\n",
      "('HEMATOCRITE_MEDIAN', 0.03308770241209263)\n",
      "('LACTATE_MEDIAN', 0.018998188597628734)\n",
      "('LEUKOCYTES_MEDIAN', 0.03977011651500605)\n",
      "('LINFOCITOS_MEDIAN', 0.0979056545920813)\n",
      "('P02_VENOUS_MEDIAN', 0.007416997412318841)\n",
      "('PCR_MEDIAN', 0.13553383680505587)\n",
      "('PH_VENOUS_MEDIAN', 0.0034301427315634532)\n",
      "('PLATELETS_MEDIAN', 0.04097465325420469)\n",
      "('POTASSIUM_MEDIAN', 0.017493518576045024)\n",
      "('SAT02_ARTERIAL_MEDIAN', 0.0)\n",
      "('SAT02_VENOUS_MEDIAN', 0.005262608325319791)\n",
      "('SODIUM_MEDIAN', 0.03453137522034458)\n",
      "('UREA_MEDIAN', 0.08989068689082313)\n",
      "('DIMER_MEDIAN', 0.019358834097609728)\n",
      "('BLOODPRESSURE_DIASTOLIC_MEAN', 0.06055255416759476)\n",
      "('BLOODPRESSURE_SISTOLIC_MEAN', 0.017706016136611002)\n",
      "('HEART_RATE_MEAN', 0.024202108265015235)\n",
      "('RESPIRATORY_RATE_MEAN', 0.05299409192767054)\n",
      "('TEMPERATURE_MEAN', 0.034470415275012344)\n",
      "('OXYGEN_SATURATION_MEAN', 0.03696481549639705)\n",
      "('BLOODPRESSURE_DIASTOLIC_DIFF', 0.0019410793687320274)\n",
      "('BLOODPRESSURE_SISTOLIC_DIFF', 0.0015158641242946822)\n",
      "('HEART_RATE_DIFF', 0.002059829961931356)\n",
      "('RESPIRATORY_RATE_DIFF', 0.00024021105074900298)\n",
      "('TEMPERATURE_DIFF', 0.009981292672641777)\n",
      "('AGE_PERCENTIL_10th', 0.0016596926593649048)\n",
      "('AGE_PERCENTIL_20th', 0.0008467373508102695)\n",
      "('AGE_PERCENTIL_30th', 0.0010284942055204447)\n",
      "('AGE_PERCENTIL_40th', 0.0008552309228938106)\n",
      "('AGE_PERCENTIL_50th', 0.0005535907710650544)\n",
      "('AGE_PERCENTIL_60th', 0.0006715322836201769)\n",
      "('AGE_PERCENTIL_70th', 0.0)\n",
      "('AGE_PERCENTIL_80th', 0.0027872359785429714)\n",
      "('AGE_PERCENTIL_90th', 0.0016161757503156636)\n",
      "('AGE_PERCENTIL_Above 90th', 0.0)\n"
     ]
    }
   ],
   "source": [
    "for feature in zip(X_train, modelo_random_forest.feature_importances_):\n",
    " print(feature)"
   ]
  },
  {
   "cell_type": "code",
   "execution_count": 32,
   "id": "1d510863-2137-4f69-a9e0-ba05ed760b7a",
   "metadata": {
    "id": "BgyB6NLZHEBA"
   },
   "outputs": [],
   "source": [
    "plt.rcParams.update({'figure.figsize': (14.0, 12.0)})\n",
    "plt.rcParams.update({'font.size': 10})"
   ]
  },
  {
   "cell_type": "code",
   "execution_count": 33,
   "id": "e0b8886b-4ab2-4426-950f-a055bca2b492",
   "metadata": {
    "id": "Z-qakTEUGC0h"
   },
   "outputs": [
    {
     "data": {
      "image/png": "[encoded data removed]",
      "text/plain": [
       "<Figure size 1008x864 with 1 Axes>"
      ]
     },
     "metadata": {
      "needs_background": "light"
     },
     "output_type": "display_data"
    }
   ],
   "source": [
    "sorted = modelo_random_forest.feature_importances_.argsort()\n",
    "plt.barh(X.columns[sorted], modelo_random_forest.feature_importances_[sorted], color= '#9D61A0')\n",
    "plt.xlabel(\"Feature Importance\")\n",
    "plt.title('Feature Importance no modelo Random Forest', pad= 20, fontsize= 16, color= '#777D62', weight= 'bold', family ='sans-serif')\n",
    "plt.grid(axis = 'x')\n",
    "plt.show()"
   ]
  },
  {
   "cell_type": "markdown",
   "id": "de037593-a70f-48cb-a63e-6d47c6ab9720",
   "metadata": {},
   "source": [
    "Pelo gráfico percebemos que os dados referentes às **comorbidades** (disease groupings) e às **faixas etárias**(age percentil) em sua grande maioria estão entre os de menor importância para o modelo avaliado.Com base no gráfico, farei a exclusão das colunas que contém esses dados e mais alguns outros que tem um coeficiente de importância muito próximo a zero."
   ]
  },
  {
   "cell_type": "code",
   "execution_count": 34,
   "id": "501f5d4d-18e2-4385-9ebd-15fb4d849f2c",
   "metadata": {},
   "outputs": [],
   "source": [
    "colunas_selecionadas = dados_limpos.columns[:-10] #exclusão das colunas AGE_PERCENTIL"
   ]
  },
  {
   "cell_type": "code",
   "execution_count": 35,
   "id": "6d128284-4137-46b1-830b-a1d96d996e14",
   "metadata": {},
   "outputs": [],
   "source": [
    "dados_finais = dados_limpos[colunas_selecionadas]"
   ]
  },
  {
   "cell_type": "code",
   "execution_count": 36,
   "id": "2fcf2dc9-edb7-4494-85c3-f534d7a37056",
   "metadata": {},
   "outputs": [],
   "source": [
    "colunas_excluir= ['DISEASE GROUPING 1', 'DISEASE GROUPING 2', 'DISEASE GROUPING 3', 'DISEASE GROUPING 4','DISEASE GROUPING 6',\n",
    "                   'OTHER','RESPIRATORY_RATE_DIFF','ALBUMIN_MEDIAN', 'SAT02_ARTERIAL_MEDIAN']"
   ]
  },
  {
   "cell_type": "code",
   "execution_count": 37,
   "id": "ccdca78d-e01a-4474-9b49-d15372d9f8a4",
   "metadata": {},
   "outputs": [],
   "source": [
    "#exclusão das colunas listadas em 'colunas excluir'\n",
    "for cols in colunas_excluir:\n",
    "    dados_finais= dados_finais.drop(columns=[cols])"
   ]
  },
  {
   "cell_type": "code",
   "execution_count": 38,
   "id": "1542ceb5-0d25-4abc-b67c-7af29c8b1aba",
   "metadata": {},
   "outputs": [
    {
     "data": {
      "text/html": [
       "<div>\n",
       "<style scoped>\n",
       "    .dataframe tbody tr th:only-of-type {\n",
       "        vertical-align: middle;\n",
       "    }\n",
       "\n",
       "    .dataframe tbody tr th {\n",
       "        vertical-align: top;\n",
       "    }\n",
       "\n",
       "    .dataframe thead th {\n",
       "        text-align: right;\n",
       "    }\n",
       "</style>\n",
       "<table border=\"1\" class=\"dataframe\">\n",
       "  <thead>\n",
       "    <tr style=\"text-align: right;\">\n",
       "      <th></th>\n",
       "      <th>AGE_ABOVE65</th>\n",
       "      <th>GENDER</th>\n",
       "      <th>DISEASE GROUPING 5</th>\n",
       "      <th>HTN</th>\n",
       "      <th>BE_VENOUS_MEDIAN</th>\n",
       "      <th>BIC_VENOUS_MEDIAN</th>\n",
       "      <th>CALCIUM_MEDIAN</th>\n",
       "      <th>CREATININ_MEDIAN</th>\n",
       "      <th>FFA_MEDIAN</th>\n",
       "      <th>GGT_MEDIAN</th>\n",
       "      <th>...</th>\n",
       "      <th>UREA_MEDIAN</th>\n",
       "      <th>DIMER_MEDIAN</th>\n",
       "      <th>BLOODPRESSURE_DIASTOLIC_MEAN</th>\n",
       "      <th>BLOODPRESSURE_SISTOLIC_MEAN</th>\n",
       "      <th>HEART_RATE_MEAN</th>\n",
       "      <th>RESPIRATORY_RATE_MEAN</th>\n",
       "      <th>TEMPERATURE_MEAN</th>\n",
       "      <th>OXYGEN_SATURATION_MEAN</th>\n",
       "      <th>TEMPERATURE_DIFF</th>\n",
       "      <th>ICU</th>\n",
       "    </tr>\n",
       "  </thead>\n",
       "  <tbody>\n",
       "    <tr>\n",
       "      <th>0</th>\n",
       "      <td>1.0</td>\n",
       "      <td>0.0</td>\n",
       "      <td>1.0</td>\n",
       "      <td>0.0</td>\n",
       "      <td>-1.000000</td>\n",
       "      <td>-0.317073</td>\n",
       "      <td>0.183673</td>\n",
       "      <td>-0.868365</td>\n",
       "      <td>-0.742004</td>\n",
       "      <td>-0.945093</td>\n",
       "      <td>...</td>\n",
       "      <td>-0.836145</td>\n",
       "      <td>-0.994912</td>\n",
       "      <td>0.086420</td>\n",
       "      <td>-0.230769</td>\n",
       "      <td>-0.283019</td>\n",
       "      <td>-0.593220</td>\n",
       "      <td>-0.285714</td>\n",
       "      <td>0.736842</td>\n",
       "      <td>-1.000000</td>\n",
       "      <td>1.0</td>\n",
       "    </tr>\n",
       "    <tr>\n",
       "      <th>1</th>\n",
       "      <td>0.0</td>\n",
       "      <td>0.0</td>\n",
       "      <td>0.0</td>\n",
       "      <td>0.0</td>\n",
       "      <td>-1.000000</td>\n",
       "      <td>-0.317073</td>\n",
       "      <td>0.357143</td>\n",
       "      <td>-0.912243</td>\n",
       "      <td>-0.742004</td>\n",
       "      <td>-0.958528</td>\n",
       "      <td>...</td>\n",
       "      <td>-0.836145</td>\n",
       "      <td>-0.978029</td>\n",
       "      <td>-0.489712</td>\n",
       "      <td>-0.685470</td>\n",
       "      <td>-0.048218</td>\n",
       "      <td>-0.645951</td>\n",
       "      <td>0.357143</td>\n",
       "      <td>0.935673</td>\n",
       "      <td>-1.000000</td>\n",
       "      <td>1.0</td>\n",
       "    </tr>\n",
       "    <tr>\n",
       "      <th>2</th>\n",
       "      <td>0.0</td>\n",
       "      <td>1.0</td>\n",
       "      <td>0.0</td>\n",
       "      <td>0.0</td>\n",
       "      <td>-1.000000</td>\n",
       "      <td>-0.317073</td>\n",
       "      <td>0.326531</td>\n",
       "      <td>-0.968861</td>\n",
       "      <td>-0.194030</td>\n",
       "      <td>-0.316589</td>\n",
       "      <td>...</td>\n",
       "      <td>-0.937349</td>\n",
       "      <td>-0.978029</td>\n",
       "      <td>0.012346</td>\n",
       "      <td>-0.369231</td>\n",
       "      <td>-0.528302</td>\n",
       "      <td>-0.457627</td>\n",
       "      <td>-0.285714</td>\n",
       "      <td>0.684211</td>\n",
       "      <td>-1.000000</td>\n",
       "      <td>0.0</td>\n",
       "    </tr>\n",
       "    <tr>\n",
       "      <th>3</th>\n",
       "      <td>0.0</td>\n",
       "      <td>0.0</td>\n",
       "      <td>0.0</td>\n",
       "      <td>0.0</td>\n",
       "      <td>-1.000000</td>\n",
       "      <td>-0.317073</td>\n",
       "      <td>0.357143</td>\n",
       "      <td>-0.913659</td>\n",
       "      <td>-0.829424</td>\n",
       "      <td>-0.938084</td>\n",
       "      <td>...</td>\n",
       "      <td>-0.903614</td>\n",
       "      <td>-1.000000</td>\n",
       "      <td>0.333333</td>\n",
       "      <td>-0.153846</td>\n",
       "      <td>0.160377</td>\n",
       "      <td>-0.593220</td>\n",
       "      <td>0.285714</td>\n",
       "      <td>0.868421</td>\n",
       "      <td>-0.952381</td>\n",
       "      <td>0.0</td>\n",
       "    </tr>\n",
       "    <tr>\n",
       "      <th>4</th>\n",
       "      <td>0.0</td>\n",
       "      <td>0.0</td>\n",
       "      <td>0.0</td>\n",
       "      <td>0.0</td>\n",
       "      <td>-1.000000</td>\n",
       "      <td>-0.317073</td>\n",
       "      <td>0.357143</td>\n",
       "      <td>-0.891012</td>\n",
       "      <td>-0.742004</td>\n",
       "      <td>-0.958528</td>\n",
       "      <td>...</td>\n",
       "      <td>-0.884337</td>\n",
       "      <td>-1.000000</td>\n",
       "      <td>-0.037037</td>\n",
       "      <td>-0.538462</td>\n",
       "      <td>-0.537736</td>\n",
       "      <td>-0.525424</td>\n",
       "      <td>-0.196429</td>\n",
       "      <td>0.815789</td>\n",
       "      <td>-0.976190</td>\n",
       "      <td>0.0</td>\n",
       "    </tr>\n",
       "    <tr>\n",
       "      <th>...</th>\n",
       "      <td>...</td>\n",
       "      <td>...</td>\n",
       "      <td>...</td>\n",
       "      <td>...</td>\n",
       "      <td>...</td>\n",
       "      <td>...</td>\n",
       "      <td>...</td>\n",
       "      <td>...</td>\n",
       "      <td>...</td>\n",
       "      <td>...</td>\n",
       "      <td>...</td>\n",
       "      <td>...</td>\n",
       "      <td>...</td>\n",
       "      <td>...</td>\n",
       "      <td>...</td>\n",
       "      <td>...</td>\n",
       "      <td>...</td>\n",
       "      <td>...</td>\n",
       "      <td>...</td>\n",
       "      <td>...</td>\n",
       "      <td>...</td>\n",
       "    </tr>\n",
       "    <tr>\n",
       "      <th>289</th>\n",
       "      <td>0.0</td>\n",
       "      <td>1.0</td>\n",
       "      <td>0.0</td>\n",
       "      <td>0.0</td>\n",
       "      <td>-1.000000</td>\n",
       "      <td>-0.317073</td>\n",
       "      <td>0.326531</td>\n",
       "      <td>-0.937721</td>\n",
       "      <td>1.000000</td>\n",
       "      <td>-0.147196</td>\n",
       "      <td>...</td>\n",
       "      <td>-0.860241</td>\n",
       "      <td>-0.978029</td>\n",
       "      <td>-0.160494</td>\n",
       "      <td>-0.692308</td>\n",
       "      <td>0.339623</td>\n",
       "      <td>-0.457627</td>\n",
       "      <td>0.142857</td>\n",
       "      <td>0.736842</td>\n",
       "      <td>-1.000000</td>\n",
       "      <td>1.0</td>\n",
       "    </tr>\n",
       "    <tr>\n",
       "      <th>290</th>\n",
       "      <td>1.0</td>\n",
       "      <td>0.0</td>\n",
       "      <td>0.0</td>\n",
       "      <td>0.0</td>\n",
       "      <td>-1.000000</td>\n",
       "      <td>-0.317073</td>\n",
       "      <td>0.285714</td>\n",
       "      <td>-0.886766</td>\n",
       "      <td>-0.742004</td>\n",
       "      <td>-0.958528</td>\n",
       "      <td>...</td>\n",
       "      <td>-0.855422</td>\n",
       "      <td>-0.978029</td>\n",
       "      <td>-0.407407</td>\n",
       "      <td>-0.692308</td>\n",
       "      <td>-0.283019</td>\n",
       "      <td>-0.457627</td>\n",
       "      <td>-0.059524</td>\n",
       "      <td>0.526316</td>\n",
       "      <td>-0.619048</td>\n",
       "      <td>0.0</td>\n",
       "    </tr>\n",
       "    <tr>\n",
       "      <th>291</th>\n",
       "      <td>0.0</td>\n",
       "      <td>0.0</td>\n",
       "      <td>0.0</td>\n",
       "      <td>0.0</td>\n",
       "      <td>-1.000000</td>\n",
       "      <td>-0.317073</td>\n",
       "      <td>0.357143</td>\n",
       "      <td>-0.905166</td>\n",
       "      <td>-0.742004</td>\n",
       "      <td>-0.958528</td>\n",
       "      <td>...</td>\n",
       "      <td>-0.787952</td>\n",
       "      <td>-0.964461</td>\n",
       "      <td>0.012346</td>\n",
       "      <td>-0.384615</td>\n",
       "      <td>-0.320755</td>\n",
       "      <td>-0.457627</td>\n",
       "      <td>-0.071429</td>\n",
       "      <td>0.894737</td>\n",
       "      <td>-1.000000</td>\n",
       "      <td>1.0</td>\n",
       "    </tr>\n",
       "    <tr>\n",
       "      <th>292</th>\n",
       "      <td>0.0</td>\n",
       "      <td>1.0</td>\n",
       "      <td>0.0</td>\n",
       "      <td>0.0</td>\n",
       "      <td>-1.000000</td>\n",
       "      <td>-0.317073</td>\n",
       "      <td>0.357143</td>\n",
       "      <td>-0.922151</td>\n",
       "      <td>-0.742004</td>\n",
       "      <td>-0.958528</td>\n",
       "      <td>...</td>\n",
       "      <td>-0.937349</td>\n",
       "      <td>-0.978029</td>\n",
       "      <td>0.086420</td>\n",
       "      <td>-0.230769</td>\n",
       "      <td>-0.301887</td>\n",
       "      <td>-0.661017</td>\n",
       "      <td>-0.107143</td>\n",
       "      <td>0.736842</td>\n",
       "      <td>-1.000000</td>\n",
       "      <td>0.0</td>\n",
       "    </tr>\n",
       "    <tr>\n",
       "      <th>293</th>\n",
       "      <td>0.0</td>\n",
       "      <td>1.0</td>\n",
       "      <td>0.0</td>\n",
       "      <td>0.0</td>\n",
       "      <td>-0.717277</td>\n",
       "      <td>-0.170732</td>\n",
       "      <td>0.244898</td>\n",
       "      <td>-0.934890</td>\n",
       "      <td>-0.782516</td>\n",
       "      <td>-0.960280</td>\n",
       "      <td>...</td>\n",
       "      <td>-0.879518</td>\n",
       "      <td>-0.979571</td>\n",
       "      <td>0.012346</td>\n",
       "      <td>-0.292308</td>\n",
       "      <td>0.056604</td>\n",
       "      <td>-0.525424</td>\n",
       "      <td>0.535714</td>\n",
       "      <td>0.789474</td>\n",
       "      <td>-1.000000</td>\n",
       "      <td>0.0</td>\n",
       "    </tr>\n",
       "  </tbody>\n",
       "</table>\n",
       "<p>294 rows × 32 columns</p>\n",
       "</div>"
      ],
      "text/plain": [
       "     AGE_ABOVE65  GENDER  DISEASE GROUPING 5  HTN  BE_VENOUS_MEDIAN  \\\n",
       "0            1.0     0.0                 1.0  0.0         -1.000000   \n",
       "1            0.0     0.0                 0.0  0.0         -1.000000   \n",
       "2            0.0     1.0                 0.0  0.0         -1.000000   \n",
       "3            0.0     0.0                 0.0  0.0         -1.000000   \n",
       "4            0.0     0.0                 0.0  0.0         -1.000000   \n",
       "..           ...     ...                 ...  ...               ...   \n",
       "289          0.0     1.0                 0.0  0.0         -1.000000   \n",
       "290          1.0     0.0                 0.0  0.0         -1.000000   \n",
       "291          0.0     0.0                 0.0  0.0         -1.000000   \n",
       "292          0.0     1.0                 0.0  0.0         -1.000000   \n",
       "293          0.0     1.0                 0.0  0.0         -0.717277   \n",
       "\n",
       "     BIC_VENOUS_MEDIAN  CALCIUM_MEDIAN  CREATININ_MEDIAN  FFA_MEDIAN  \\\n",
       "0            -0.317073        0.183673         -0.868365   -0.742004   \n",
       "1            -0.317073        0.357143         -0.912243   -0.742004   \n",
       "2            -0.317073        0.326531         -0.968861   -0.194030   \n",
       "3            -0.317073        0.357143         -0.913659   -0.829424   \n",
       "4            -0.317073        0.357143         -0.891012   -0.742004   \n",
       "..                 ...             ...               ...         ...   \n",
       "289          -0.317073        0.326531         -0.937721    1.000000   \n",
       "290          -0.317073        0.285714         -0.886766   -0.742004   \n",
       "291          -0.317073        0.357143         -0.905166   -0.742004   \n",
       "292          -0.317073        0.357143         -0.922151   -0.742004   \n",
       "293          -0.170732        0.244898         -0.934890   -0.782516   \n",
       "\n",
       "     GGT_MEDIAN  ...  UREA_MEDIAN  DIMER_MEDIAN  BLOODPRESSURE_DIASTOLIC_MEAN  \\\n",
       "0     -0.945093  ...    -0.836145     -0.994912                      0.086420   \n",
       "1     -0.958528  ...    -0.836145     -0.978029                     -0.489712   \n",
       "2     -0.316589  ...    -0.937349     -0.978029                      0.012346   \n",
       "3     -0.938084  ...    -0.903614     -1.000000                      0.333333   \n",
       "4     -0.958528  ...    -0.884337     -1.000000                     -0.037037   \n",
       "..          ...  ...          ...           ...                           ...   \n",
       "289   -0.147196  ...    -0.860241     -0.978029                     -0.160494   \n",
       "290   -0.958528  ...    -0.855422     -0.978029                     -0.407407   \n",
       "291   -0.958528  ...    -0.787952     -0.964461                      0.012346   \n",
       "292   -0.958528  ...    -0.937349     -0.978029                      0.086420   \n",
       "293   -0.960280  ...    -0.879518     -0.979571                      0.012346   \n",
       "\n",
       "     BLOODPRESSURE_SISTOLIC_MEAN  HEART_RATE_MEAN  RESPIRATORY_RATE_MEAN  \\\n",
       "0                      -0.230769        -0.283019              -0.593220   \n",
       "1                      -0.685470        -0.048218              -0.645951   \n",
       "2                      -0.369231        -0.528302              -0.457627   \n",
       "3                      -0.153846         0.160377              -0.593220   \n",
       "4                      -0.538462        -0.537736              -0.525424   \n",
       "..                           ...              ...                    ...   \n",
       "289                    -0.692308         0.339623              -0.457627   \n",
       "290                    -0.692308        -0.283019              -0.457627   \n",
       "291                    -0.384615        -0.320755              -0.457627   \n",
       "292                    -0.230769        -0.301887              -0.661017   \n",
       "293                    -0.292308         0.056604              -0.525424   \n",
       "\n",
       "     TEMPERATURE_MEAN  OXYGEN_SATURATION_MEAN  TEMPERATURE_DIFF  ICU  \n",
       "0           -0.285714                0.736842         -1.000000  1.0  \n",
       "1            0.357143                0.935673         -1.000000  1.0  \n",
       "2           -0.285714                0.684211         -1.000000  0.0  \n",
       "3            0.285714                0.868421         -0.952381  0.0  \n",
       "4           -0.196429                0.815789         -0.976190  0.0  \n",
       "..                ...                     ...               ...  ...  \n",
       "289          0.142857                0.736842         -1.000000  1.0  \n",
       "290         -0.059524                0.526316         -0.619048  0.0  \n",
       "291         -0.071429                0.894737         -1.000000  1.0  \n",
       "292         -0.107143                0.736842         -1.000000  0.0  \n",
       "293          0.535714                0.789474         -1.000000  0.0  \n",
       "\n",
       "[294 rows x 32 columns]"
      ]
     },
     "execution_count": 38,
     "metadata": {},
     "output_type": "execute_result"
    }
   ],
   "source": [
    "dados_finais"
   ]
  },
  {
   "cell_type": "markdown",
   "id": "3151ef03-3ac3-4037-bd33-c13f3f3fa0a7",
   "metadata": {},
   "source": [
    "Nova divisão entre treino e teste com os dados_finais, para testar novamente os modelos com os dados sem as features de baixa importância para o modelo random forest:"
   ]
  },
  {
   "cell_type": "code",
   "execution_count": 39,
   "id": "5eaa045c-adf5-41a6-9e48-61bcaf4c17f7",
   "metadata": {
    "id": "g_1CuuUtAMVO"
   },
   "outputs": [],
   "source": [
    "colunas = dados_finais.columns\n",
    "yi = dados_finais[\"ICU\"]\n",
    "Xi = dados_finais[colunas].drop([\"ICU\"], axis=1)\n",
    "Xi_train, Xi_test, yi_train, yi_test = train_test_split(Xi, yi, stratify=yi, random_state= 55596 )"
   ]
  },
  {
   "cell_type": "markdown",
   "id": "9c41e722-9966-4637-ac87-af7db4e2c428",
   "metadata": {},
   "source": [
    "**Random Forest com features mais importantes (dados finais)**"
   ]
  },
  {
   "cell_type": "code",
   "execution_count": 61,
   "id": "e339641f-cc5d-4428-b477-273ed38e9604",
   "metadata": {
    "id": "Yo5YzesG3_7e"
   },
   "outputs": [
    {
     "data": {
      "text/plain": [
       "RandomForestClassifier(class_weight='balanced', min_samples_leaf=10,\n",
       "                       n_estimators=250, random_state=55596)"
      ]
     },
     "execution_count": 61,
     "metadata": {},
     "output_type": "execute_result"
    }
   ],
   "source": [
    "#criterion entropy piorou a acuracia, min_samples_leaf= 10 melhorou muito, porém a acurácia melhorou mais ainda com 1\n",
    "modelo_random_forest_2= RandomForestClassifier(n_estimators= 250, random_state=55596, min_samples_leaf=10, class_weight='balanced') \n",
    "modelo_random_forest_2.fit(Xi_train,yi_train)"
   ]
  },
  {
   "cell_type": "code",
   "execution_count": 62,
   "id": "510001ef-20ae-4719-9aad-c0d62ebc9d74",
   "metadata": {
    "id": "t4iOAgK0OSE1"
   },
   "outputs": [],
   "source": [
    "predicao_modelo_randomf_2 = modelo_random_forest_2.predict(Xi_test)"
   ]
  },
  {
   "cell_type": "code",
   "execution_count": 63,
   "id": "0f7de1b3-08d6-4c68-8a16-5f3bc1aed82c",
   "metadata": {},
   "outputs": [
    {
     "data": {
      "text/plain": [
       "0.7702702702702703"
      ]
     },
     "execution_count": 63,
     "metadata": {},
     "output_type": "execute_result"
    }
   ],
   "source": [
    "accuracy_score(yi_test, predicao_modelo_randomf_2)"
   ]
  },
  {
   "cell_type": "code",
   "execution_count": 64,
   "id": "09e62c20-8e38-4d2d-b5c4-a5d8aa2c9c13",
   "metadata": {},
   "outputs": [
    {
     "data": {
      "text/plain": [
       "0.6956521739130435"
      ]
     },
     "execution_count": 64,
     "metadata": {},
     "output_type": "execute_result"
    }
   ],
   "source": [
    "precision_score(yi_test, predicao_modelo_randomf_2)"
   ]
  },
  {
   "cell_type": "code",
   "execution_count": 65,
   "id": "cb11cd4b-ad4b-41e7-8d41-efa4e3225c70",
   "metadata": {},
   "outputs": [
    {
     "data": {
      "text/plain": [
       "0.6153846153846154"
      ]
     },
     "execution_count": 65,
     "metadata": {},
     "output_type": "execute_result"
    }
   ],
   "source": [
    "recall_score(yi_test, predicao_modelo_randomf_2)"
   ]
  },
  {
   "cell_type": "code",
   "execution_count": 66,
   "id": "7e2b2bf8-a873-4ca5-b9ec-f25a543dafbc",
   "metadata": {},
   "outputs": [
    {
     "name": "stdout",
     "output_type": "stream",
     "text": [
      "              precision    recall  f1-score   support\n",
      "\n",
      "         0.0       0.80      0.85      0.83        48\n",
      "         1.0       0.70      0.62      0.65        26\n",
      "\n",
      "    accuracy                           0.77        74\n",
      "   macro avg       0.75      0.73      0.74        74\n",
      "weighted avg       0.77      0.77      0.77        74\n",
      "\n"
     ]
    }
   ],
   "source": [
    "print(classification_report(yi_test, predicao_modelo_randomf_2))"
   ]
  },
  {
   "cell_type": "markdown",
   "id": "8dad1d70-4005-4671-90b5-fe340e5aec70",
   "metadata": {},
   "source": [
    "O mesmo modelo, só que agora sem as colunas das features de menor importância para o modelo, obteve aparentemente os mesmos resultados."
   ]
  },
  {
   "cell_type": "markdown",
   "id": "f253f803-fd8f-44cd-a939-e21ba2306a6b",
   "metadata": {},
   "source": [
    "**SVC com os dados finais**"
   ]
  },
  {
   "cell_type": "code",
   "execution_count": 72,
   "id": "c843ac52-7c7b-49ad-a553-69fb3a66bd15",
   "metadata": {
    "id": "UytppJcxsIkd"
   },
   "outputs": [
    {
     "data": {
      "text/plain": [
       "SVC(class_weight='balanced', gamma=0.1, kernel='poly', probability=True,\n",
       "    random_state=55596)"
      ]
     },
     "execution_count": 72,
     "metadata": {},
     "output_type": "execute_result"
    }
   ],
   "source": [
    "modelo_svc_2 = svm.SVC(gamma= 0.1, random_state=55596, kernel='poly', probability= True, class_weight='balanced')\n",
    "modelo_svc_2.fit(Xi_train, yi_train)\n"
   ]
  },
  {
   "cell_type": "code",
   "execution_count": 69,
   "id": "be3ccaa3-8604-4031-8256-b6c8496ad3a1",
   "metadata": {
    "id": "c-Iwjtqfte0R"
   },
   "outputs": [],
   "source": [
    "previsao_svc_2 = modelo_svc_2.predict(Xi_test)"
   ]
  },
  {
   "cell_type": "code",
   "execution_count": 70,
   "id": "ae29550c-950f-4db9-8f49-5ab696e9d0c2",
   "metadata": {
    "id": "cbFYeIMIsIsJ"
   },
   "outputs": [
    {
     "data": {
      "text/plain": [
       "0.7027027027027027"
      ]
     },
     "execution_count": 70,
     "metadata": {},
     "output_type": "execute_result"
    }
   ],
   "source": [
    "accuracy_score(yi_test, previsao_svc_2)"
   ]
  },
  {
   "cell_type": "code",
   "execution_count": 71,
   "id": "12bf7a1e-8476-4071-8905-54216c2f2cad",
   "metadata": {},
   "outputs": [
    {
     "name": "stdout",
     "output_type": "stream",
     "text": [
      "              precision    recall  f1-score   support\n",
      "\n",
      "         0.0       0.80      0.73      0.76        48\n",
      "         1.0       0.57      0.65      0.61        26\n",
      "\n",
      "    accuracy                           0.70        74\n",
      "   macro avg       0.68      0.69      0.68        74\n",
      "weighted avg       0.72      0.70      0.71        74\n",
      "\n"
     ]
    }
   ],
   "source": [
    "print(classification_report(yi_test, previsao_svc_2))"
   ]
  },
  {
   "cell_type": "markdown",
   "id": "8d33e5d1-c72d-4721-b12b-ee6eeb387569",
   "metadata": {},
   "source": [
    "No caso do modelo de SVC com os dados finais, o desempenho também foi pior."
   ]
  },
  {
   "cell_type": "markdown",
   "id": "452cabd9-ec79-49c8-9953-6e4552b21e6f",
   "metadata": {},
   "source": [
    "**Comparando a ROC curve dos meus modelos**"
   ]
  },
  {
   "cell_type": "markdown",
   "id": "d9079fc4-cde8-459b-9bf0-2cdd23dc0762",
   "metadata": {},
   "source": [
    "A ROC curve é uma métrica de avaliação de modelos de classificação binária, como o que está sendo implementado aqui. É uma curva de probabilidade que mostra a relação da taxa de verdadeiro positivo pela taxa de falso positivo em diferentes limiareas. A área sob a curva(AUC) representa a habilidade do modelo de classificação de distinguir entre as classes."
   ]
  },
  {
   "cell_type": "code",
   "execution_count": 73,
   "id": "bf3492a9-6845-48ff-817c-b1e80874fd75",
   "metadata": {},
   "outputs": [],
   "source": [
    "prob_predict = modelo_random_forest.predict_proba(X_test)"
   ]
  },
  {
   "cell_type": "code",
   "execution_count": 74,
   "id": "1d045f8f-c3b0-475e-8696-6735923e7723",
   "metadata": {},
   "outputs": [],
   "source": [
    "fpr1, tpr1 = roda_modelos(modelo_random_forest, dados_limpos)\n",
    "fpr2, tpr2 = roda_modelos(modelo_svc, dados_limpos)\n",
    "fpr, tpr = roda_modelos(modelo_dummy, dados_limpos)"
   ]
  },
  {
   "cell_type": "code",
   "execution_count": 75,
   "id": "61e4fa98-a6d0-4153-bb06-b2a09a0e433b",
   "metadata": {},
   "outputs": [
    {
     "data": {
      "image/png": "[encoded data removed]",
      "text/plain": [
       "<Figure size 864x576 with 1 Axes>"
      ]
     },
     "metadata": {
      "needs_background": "light"
     },
     "output_type": "display_data"
    }
   ],
   "source": [
    "plota_roc_curve(fpr, tpr, fpr1, tpr1, fpr2, tpr2)\n"
   ]
  },
  {
   "cell_type": "markdown",
   "id": "aed5cba1-aba4-4d4d-afd9-42415b436f99",
   "metadata": {},
   "source": [
    "Aqui vemos a superioridade do modelo Random Forest com relação ao SVC e ao DummyClassifier."
   ]
  },
  {
   "cell_type": "markdown",
   "id": "cc4e29d6-10b7-45c9-911c-afb2ef957f16",
   "metadata": {},
   "source": [
    "**Validação dos modelos utilizando o cross_validate**"
   ]
  },
  {
   "cell_type": "markdown",
   "id": "8a1462ae-dace-4816-a086-15106e8ebcc2",
   "metadata": {},
   "source": [
    "Para termos certeza de que temos um bom modelo, é necessário que façamos sua validação.\n",
    "Para evitar de dividir a base de dados em ainda mais uma porção e dessa forma ficar com menos dados para o treinamento do modelo, temos a validação cruzada(cross-validation). \n",
    "\n",
    "O tipo de cross-validation utilizado será o stratified repeated k-fold. Mais detalhes sobre esse método estão descritos no [notebook principal].\n",
    "\n",
    "A performance do modelo é a média dos valores computados em cada uma das divisões.\n",
    "\n"
   ]
  },
  {
   "cell_type": "markdown",
   "id": "4f413f10-81f3-4806-9de3-8294ed6de55a",
   "metadata": {},
   "source": [
    "As métricas utilizadas serão a AUC e o recall. "
   ]
  },
  {
   "cell_type": "code",
   "execution_count": 76,
   "id": "a10d4944-4116-4307-b219-b6c0d7d43169",
   "metadata": {
    "id": "66kvBrGv38Lj"
   },
   "outputs": [],
   "source": [
    "from sklearn.model_selection import cross_validate\n",
    "from sklearn.model_selection import RepeatedStratifiedKFold"
   ]
  },
  {
   "cell_type": "code",
   "execution_count": 77,
   "id": "1b14e9d7-aa8d-4cda-a5b9-e915a24a33b8",
   "metadata": {
    "id": "DUcrBvn13WHG"
   },
   "outputs": [],
   "source": [
    "def modelo_cv(modelo, dados, n_splits, n_repeats):\n",
    "\n",
    "    np.random.seed(55596)\n",
    "    dados = dados.sample(frac=1).reset_index(drop=True)\n",
    "    colunas = dados.columns\n",
    "    y = dados[\"ICU\"]\n",
    "    X = dados[colunas].drop([\"ICU\"], axis=1)\n",
    "     \n",
    "       \n",
    "    cv = RepeatedStratifiedKFold(n_splits = n_splits, n_repeats=n_repeats, )\n",
    "    resultados_auc=cross_validate(modelo, X, y, cv=cv, scoring='roc_auc', return_train_score=True)\n",
    "    resultados_recall=cross_validate(modelo, X, y, cv=cv, scoring='recall') \n",
    "    \n",
    "    \n",
    "    auc_medio = np.mean(resultados_auc['test_score'])\n",
    "    auc_std = np.std(resultados_auc['test_score'])\n",
    "    recall_medio = np.mean(resultados_recall['test_score'])\n",
    "    recall_std = np.std(resultados_recall['test_score'])\n",
    "    \n",
    "    print(f\"Recall {recall_medio}\")  \n",
    "    print(f\"Intervalo Recall {recall_medio - 2* auc_std} - {recall_medio + 2* auc_std}\")\n",
    "    print(f\"AUC {auc_medio}\")\n",
    "    print(f\"Intervalo AUC {auc_medio - 2* auc_std} - {auc_medio + 2* auc_std}\")\n",
    "       "
   ]
  },
  {
   "cell_type": "markdown",
   "id": "09f68700-7d8a-4077-945f-ee3ca8f072c8",
   "metadata": {},
   "source": [
    "Como comparação, segue a cross-validation do modelo **dummyclassifier** implementado:"
   ]
  },
  {
   "cell_type": "code",
   "execution_count": 78,
   "id": "816973e7-d303-4bb9-a468-b81b1201e9ba",
   "metadata": {},
   "outputs": [
    {
     "name": "stdout",
     "output_type": "stream",
     "text": [
      "Recall 0.0\n",
      "Intervalo Recall 0.0 - 0.0\n",
      "AUC 0.5\n",
      "Intervalo AUC 0.5 - 0.5\n"
     ]
    }
   ],
   "source": [
    "modelo_cv(modelo_dummy, dados_limpos, 5, 10)"
   ]
  },
  {
   "cell_type": "markdown",
   "id": "6d13a0b9-33c8-4fbd-8c65-b42d25ec79cb",
   "metadata": {},
   "source": [
    "**Modelo Random Forest Classifier**"
   ]
  },
  {
   "cell_type": "code",
   "execution_count": 79,
   "id": "712501a2-d171-4230-b418-42460044af2d",
   "metadata": {},
   "outputs": [
    {
     "name": "stdout",
     "output_type": "stream",
     "text": [
      "Recall 0.6361904761904762\n",
      "Intervalo Recall 0.5382672977180458 - 0.7341136546629066\n",
      "AUC 0.7802248865406761\n",
      "Intervalo AUC 0.6823017080682456 - 0.8781480650131066\n"
     ]
    }
   ],
   "source": [
    "modelo_cv(modelo_random_forest, dados_limpos, 5, 10)"
   ]
  },
  {
   "cell_type": "markdown",
   "id": "05994354-438e-4f8e-9593-e1fce57fb833",
   "metadata": {},
   "source": [
    "**Modelo Random Forest Classifier com dados_finais** \n",
    "\n",
    "Com seleção das features mais importantes"
   ]
  },
  {
   "cell_type": "code",
   "execution_count": 80,
   "id": "94137ab8-1401-49fc-9e34-552b35fc525b",
   "metadata": {
    "id": "oJzbyqRC3tnE"
   },
   "outputs": [
    {
     "name": "stdout",
     "output_type": "stream",
     "text": [
      "Recall 0.6552380952380952\n",
      "Intervalo Recall 0.5596476534076577 - 0.7508285370685327\n",
      "AUC 0.7797764681975208\n",
      "Intervalo AUC 0.6841860263670833 - 0.8753669100279583\n"
     ]
    }
   ],
   "source": [
    "modelo_cv(modelo_random_forest_2, dados_finais, 5, 10)"
   ]
  },
  {
   "cell_type": "markdown",
   "id": "9dc04460-0768-4181-b9b0-b52625bf3f98",
   "metadata": {},
   "source": [
    "**Modelo SVC**"
   ]
  },
  {
   "cell_type": "code",
   "execution_count": 81,
   "id": "1eeb66d8-e1a0-49a2-ab93-28f56cac760a",
   "metadata": {},
   "outputs": [
    {
     "name": "stdout",
     "output_type": "stream",
     "text": [
      "Recall 0.5742857142857143\n",
      "Intervalo Recall 0.4533541380417778 - 0.6952172905296508\n",
      "AUC 0.7123369233895551\n",
      "Intervalo AUC 0.5914053471456187 - 0.8332684996334916\n"
     ]
    }
   ],
   "source": [
    "modelo_cv(modelo_svc, dados_limpos, 5, 10)"
   ]
  },
  {
   "cell_type": "markdown",
   "id": "a0a99c65-05d3-4744-aabd-79613a97417e",
   "metadata": {},
   "source": [
    "**Modelo SVC com dados_finais**"
   ]
  },
  {
   "cell_type": "code",
   "execution_count": 82,
   "id": "1e611f6d-099f-4e8d-84ea-1a5b62e45f02",
   "metadata": {},
   "outputs": [
    {
     "name": "stdout",
     "output_type": "stream",
     "text": [
      "Recall 0.6038095238095239\n",
      "Intervalo Recall 0.49649271133721773 - 0.7111263362818301\n",
      "AUC 0.7453667953667954\n",
      "Intervalo AUC 0.6380499828944892 - 0.8526836078391016\n"
     ]
    }
   ],
   "source": [
    "modelo_cv(modelo_svc_2, dados_finais, 5, 10)"
   ]
  },
  {
   "cell_type": "markdown",
   "id": "ef60db07-5fe0-4897-89dd-d795eaa76a9b",
   "metadata": {},
   "source": [
    "O modelo que obteve os melhores resultados foi o modelo Random Forest aplicado no dataset dados_finais, que é o dataset com a exclusão das features de pouca ou nenhuma importância para o modelo, como avaliado anteriormente. Não houve grande diferença deste com o primeiro modelo de random forest, mas por ter menos features e portanto ser mais simples, optei por escolhê-lo como modelo final.\n",
    "\n",
    "Este modelo obteve uma taxa média de Recall de 65,52% e AUC médio de 77,98%. Seu desempenho é muito superior ao de um modelo aleatório como o dummyclassifier que teve 0% de recall e 50% de AUC. Entretanto, acredito que com uma melhor escolha dos parâmetros e testes de outros algoritmos de classificação, um modelo ainda melhor poderia ter sido construído.\n"
   ]
  },
  {
   "cell_type": "code",
   "execution_count": 85,
   "id": "fc240d56-ca48-4712-ae25-d7327807e440",
   "metadata": {},
   "outputs": [],
   "source": [
    "#Salvando os dados finais em um arquivo csv na pasta de dados do projeto\n",
    "dados_finais.to_csv('C:/Users/camil/Jupyter Projects/Projeto_Sirio/dados/dados_finais.csv', index= False)"
   ]
  },
  {
   "cell_type": "code",
   "execution_count": null,
   "id": "a702cc71-fba7-42b8-a0f0-5149022536b8",
   "metadata": {},
   "outputs": [],
   "source": []
  }
 ],
 "metadata": {
  "kernelspec": {
   "display_name": "Python 3",
   "language": "python",
   "name": "python3"
  },
  "language_info": {
   "codemirror_mode": {
    "name": "ipython",
    "version": 3
   },
   "file_extension": ".py",
   "mimetype": "text/x-python",
   "name": "python",
   "nbconvert_exporter": "python",
   "pygments_lexer": "ipython3",
   "version": "3.7.3"
  }
 },
 "nbformat": 4,
 "nbformat_minor": 5
}
